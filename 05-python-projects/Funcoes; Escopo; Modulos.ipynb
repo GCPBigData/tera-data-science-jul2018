{
 "cells": [
  {
   "cell_type": "markdown",
   "metadata": {
    "slideshow": {
     "slide_type": "slide"
    }
   },
   "source": [
    "# Um review de funcoes\n",
    "\n",
    "- O que são funções?\n",
    "- O que é escopo de uma variável?\n",
    "- Qual a diferença entre uma variável global e local?"
   ]
  },
  {
   "cell_type": "markdown",
   "metadata": {
    "slideshow": {
     "slide_type": "slide"
    }
   },
   "source": [
    "# Um pequeno desafio\n",
    "\n",
    "Suponha que você tem um controle financeiro rígido mês a mês e você quer ter uma noção de seu gasto médio e, além disso, você quer saber o total de gastos nos ultimos cinco meses. \n",
    "\n",
    "\n",
    "Faça uma ou mais funções que calculem isso e devolva o resultado\n"
   ]
  },
  {
   "cell_type": "code",
   "execution_count": 5,
   "metadata": {
    "slideshow": {
     "slide_type": "subslide"
    }
   },
   "outputs": [
    {
     "name": "stdout",
     "output_type": "stream",
     "text": [
      "A media dos gastos 1796383040.8e a soma é 8981915204\n"
     ]
    },
    {
     "data": {
      "image/png": "[encoded data removed]",
      "text/plain": [
       "<Figure size 432x288 with 1 Axes>"
      ]
     },
     "metadata": {},
     "output_type": "display_data"
    }
   ],
   "source": [
    "last_5_months = [2993988783, 1829621841, 1460802540, 1386258295, 1311243745]\n",
    "\n",
    "\n",
    "def media_total(list_value):\n",
    "    total = sum(list_value)\n",
    "    media = total/len(lista_value)\n",
    "    return media, total\n",
    "\n",
    "import matplotlib.pyplot as plt\n",
    "import numpy as np\n",
    "\n",
    "gastos = np.array(last_5_months)\n",
    "meses = np.array(['Jan','Fev','Mar','Abr','Mai'])\n",
    "\n",
    "\n",
    "media= np.mean(gastos)\n",
    "soma = np.sum(gastos)\n",
    "\n",
    "print(\"A media dos gastos \"+str(media)+\"e a soma é \"+str(soma))\n",
    "\n",
    "plt.plot(meses,gastos)\n",
    "plt.show()"
   ]
  },
  {
   "cell_type": "code",
   "execution_count": 6,
   "metadata": {},
   "outputs": [
    {
     "data": {
      "text/plain": [
       "(1796383040.8, 8981915204)"
      ]
     },
     "execution_count": 6,
     "metadata": {},
     "output_type": "execute_result"
    }
   ],
   "source": [
    "def media_soma(x):\n",
    "    return np.mean(x), np.sum(x)\n",
    "\n",
    "media_soma(last_5_months)"
   ]
  },
  {
   "cell_type": "markdown",
   "metadata": {
    "slideshow": {
     "slide_type": "slide"
    }
   },
   "source": [
    "# Noção de módulos\n",
    "\n",
    "Nós acabamos de escrever nossa própria implementação que encontra a média de uma lista e a soma de seus valores.\n",
    "Seria muito chato se tivessemos que escrever nossa própria função básica o tempo todo, não seria?\n",
    "\n",
    "Para nossa sorte, funções reutilizáveis já foram escritas por outras pessoas e salvas em **módulos** para podermos reutilizar. Existem módulos que focam em operações matemáticas, que focam em arquivos de audio (audioop), processamento de imagens (pillow), entre outros.\n"
   ]
  },
  {
   "cell_type": "code",
   "execution_count": 4,
   "metadata": {
    "slideshow": {
     "slide_type": "subslide"
    }
   },
   "outputs": [
    {
     "data": {
      "text/plain": [
       "22"
      ]
     },
     "execution_count": 4,
     "metadata": {},
     "output_type": "execute_result"
    }
   ],
   "source": [
    "l = [66,44,22]\n",
    "min(l)"
   ]
  },
  {
   "cell_type": "markdown",
   "metadata": {
    "slideshow": {
     "slide_type": "slide"
    }
   },
   "source": [
    "Para carregar um módulo só é preciso colocar **import nome_do_modulo** no nosso código. Por boa prática, fazemos isso sempre no começo. Para usar uma função associada a esse módulo, apenas digite **module.function()**. Algumas funções, como o **sum** são built-ins e isso quer dizer que não precisamos colocar o nome do módulo antes de chamá-la."
   ]
  },
  {
   "cell_type": "markdown",
   "metadata": {
    "slideshow": {
     "slide_type": "slide"
    }
   },
   "source": [
    "# Namespace \n",
    "\n",
    "No Python, quando escrevemos algo como *import statistics*, nós basicamente estamos importando todas as variáveis e funções do módulo estatística dentro do nosso namespace. O namespace é um dicionário que contém o código de todas as variáveis e funções que podemos escrever dentro do nosso código."
   ]
  },
  {
   "cell_type": "code",
   "execution_count": 12,
   "metadata": {
    "slideshow": {
     "slide_type": "subslide"
    }
   },
   "outputs": [
    {
     "name": "stdout",
     "output_type": "stream",
     "text": [
      "['HTML', 'In', 'Out', 'YouTubeVideo', '_', '_10', '_11', '_2', '_4', '_5', '_6', '_7', '_9', '__', '___', '__builtin__', '__builtins__', '__doc__', '__loader__', '__name__', '__package__', '__spec__', '_dh', '_i', '_i1', '_i10', '_i11', '_i12', '_i2', '_i3', '_i4', '_i5', '_i6', '_i7', '_i8', '_i9', '_ih', '_ii', '_iii', '_oh', 'exit', 'get_ipython', 'l', 'last_5_months', 'quit']\n"
     ]
    }
   ],
   "source": [
    "print(dir())"
   ]
  },
  {
   "cell_type": "code",
   "execution_count": 13,
   "metadata": {
    "slideshow": {
     "slide_type": "subslide"
    }
   },
   "outputs": [
    {
     "name": "stdout",
     "output_type": "stream",
     "text": [
      "['__add__', '__class__', '__contains__', '__delattr__', '__dir__', '__doc__', '__eq__', '__format__', '__ge__', '__getattribute__', '__getitem__', '__getnewargs__', '__gt__', '__hash__', '__init__', '__init_subclass__', '__iter__', '__le__', '__len__', '__lt__', '__mod__', '__mul__', '__ne__', '__new__', '__reduce__', '__reduce_ex__', '__repr__', '__rmod__', '__rmul__', '__setattr__', '__sizeof__', '__str__', '__subclasshook__', 'capitalize', 'casefold', 'center', 'count', 'encode', 'endswith', 'expandtabs', 'find', 'format', 'format_map', 'index', 'isalnum', 'isalpha', 'isdecimal', 'isdigit', 'isidentifier', 'islower', 'isnumeric', 'isprintable', 'isspace', 'istitle', 'isupper', 'join', 'ljust', 'lower', 'lstrip', 'maketrans', 'partition', 'replace', 'rfind', 'rindex', 'rjust', 'rpartition', 'rsplit', 'rstrip', 'split', 'splitlines', 'startswith', 'strip', 'swapcase', 'title', 'translate', 'upper', 'zfill']\n"
     ]
    }
   ],
   "source": [
    "print(dir('math'))"
   ]
  },
  {
   "cell_type": "markdown",
   "metadata": {
    "slideshow": {
     "slide_type": "skip"
    }
   },
   "source": [
    "Quando criamos variáveis novas ou funções novas, nós também estamos adicionando-as dentro do nosso namespace.\n"
   ]
  },
  {
   "cell_type": "code",
   "execution_count": 14,
   "metadata": {
    "slideshow": {
     "slide_type": "slide"
    }
   },
   "outputs": [
    {
     "name": "stdout",
     "output_type": "stream",
     "text": [
      "['ArithmeticError', 'AssertionError', 'AttributeError', 'BaseException', 'BlockingIOError', 'BrokenPipeError', 'BufferError', 'BytesWarning', 'ChildProcessError', 'ConnectionAbortedError', 'ConnectionError', 'ConnectionRefusedError', 'ConnectionResetError', 'DeprecationWarning', 'EOFError', 'Ellipsis', 'EnvironmentError', 'Exception', 'False', 'FileExistsError', 'FileNotFoundError', 'FloatingPointError', 'FutureWarning', 'GeneratorExit', 'IOError', 'ImportError', 'ImportWarning', 'IndentationError', 'IndexError', 'InterruptedError', 'IsADirectoryError', 'KeyError', 'KeyboardInterrupt', 'LookupError', 'MemoryError', 'ModuleNotFoundError', 'NameError', 'None', 'NotADirectoryError', 'NotImplemented', 'NotImplementedError', 'OSError', 'OverflowError', 'PendingDeprecationWarning', 'PermissionError', 'ProcessLookupError', 'RecursionError', 'ReferenceError', 'ResourceWarning', 'RuntimeError', 'RuntimeWarning', 'StopAsyncIteration', 'StopIteration', 'SyntaxError', 'SyntaxWarning', 'SystemError', 'SystemExit', 'TabError', 'TimeoutError', 'True', 'TypeError', 'UnboundLocalError', 'UnicodeDecodeError', 'UnicodeEncodeError', 'UnicodeError', 'UnicodeTranslateError', 'UnicodeWarning', 'UserWarning', 'ValueError', 'Warning', 'ZeroDivisionError', '__IPYTHON__', '__build_class__', '__debug__', '__doc__', '__import__', '__loader__', '__name__', '__package__', '__spec__', 'abs', 'all', 'any', 'ascii', 'bin', 'bool', 'bytearray', 'bytes', 'callable', 'chr', 'classmethod', 'compile', 'complex', 'copyright', 'credits', 'delattr', 'dict', 'dir', 'display', 'divmod', 'enumerate', 'eval', 'exec', 'filter', 'float', 'format', 'frozenset', 'get_ipython', 'getattr', 'globals', 'hasattr', 'hash', 'help', 'hex', 'id', 'input', 'int', 'isinstance', 'issubclass', 'iter', 'len', 'license', 'list', 'locals', 'map', 'max', 'memoryview', 'min', 'next', 'object', 'oct', 'open', 'ord', 'pow', 'print', 'property', 'range', 'repr', 'reversed', 'round', 'set', 'setattr', 'slice', 'sorted', 'staticmethod', 'str', 'sum', 'super', 'tuple', 'type', 'vars', 'zip']\n"
     ]
    }
   ],
   "source": [
    "print(dir(__builtin__))"
   ]
  },
  {
   "cell_type": "code",
   "execution_count": 19,
   "metadata": {
    "slideshow": {
     "slide_type": "slide"
    }
   },
   "outputs": [],
   "source": [
    "AMIGOESTOUAQUI = 10"
   ]
  },
  {
   "cell_type": "code",
   "execution_count": 20,
   "metadata": {
    "slideshow": {
     "slide_type": "subslide"
    }
   },
   "outputs": [
    {
     "name": "stdout",
     "output_type": "stream",
     "text": [
      "['AMIGOESTOUAQUI', 'HTML', 'In', 'Out', 'YouTubeVideo', '_', '_10', '_11', '_2', '_4', '_5', '_6', '_7', '_9', '__', '___', '__builtin__', '__builtins__', '__doc__', '__loader__', '__name__', '__package__', '__spec__', '_dh', '_i', '_i1', '_i10', '_i11', '_i12', '_i13', '_i14', '_i15', '_i16', '_i17', '_i18', '_i19', '_i2', '_i20', '_i3', '_i4', '_i5', '_i6', '_i7', '_i8', '_i9', '_ih', '_ii', '_iii', '_oh', 'exit', 'get_ipython', 'l', 'last_5_months', 'quit']\n"
     ]
    }
   ],
   "source": [
    "print(dir())"
   ]
  },
  {
   "cell_type": "markdown",
   "metadata": {
    "slideshow": {
     "slide_type": "slide"
    }
   },
   "source": [
    "# Exercício \n",
    "\n",
    "Agora, refaça as operações que fizemos no começo da aula utilizando os módulos da biblioteca **statistics** e o método **sum**"
   ]
  },
  {
   "cell_type": "markdown",
   "metadata": {
    "slideshow": {
     "slide_type": "subslide"
    }
   },
   "source": [
    "# Um desafio um pouco maior\n",
    "\n",
    "Eu peguei as top 200 Músicas do Spotify Brasil no dia 23/07/2018: https://spotifycharts.com/regional/br/daily/latest\n",
    "\n",
    "Esse arquivo está na pasta *data/regional-br-daily-latest.csv*\n",
    "\n",
    "Queria saber algumas estatísticas:\n",
    "\n",
    "- Qual é a média total de streams de cada uma das músicas desses top 200?\n",
    "\n",
    "- Qual é a décima música mais popular ?\n"
   ]
  },
  {
   "cell_type": "code",
   "execution_count": 11,
   "metadata": {},
   "outputs": [],
   "source": [
    "import csv\n",
    "f = open(\"data/regional-br-daily-latest.csv\", \"r\")\n",
    "music= list(csv.reader(f, delimiter=\";\"))\n",
    "stream_numbers = []\n",
    "track_names = []\n",
    "for song in music[1:]:\n",
    "    stream_numbers.append(int(song[3]))\n",
    "    track_names.append(song[1])"
   ]
  },
  {
   "cell_type": "code",
   "execution_count": 12,
   "metadata": {},
   "outputs": [
    {
     "data": {
      "text/plain": [
       "'Romance Com Safadeza'"
      ]
     },
     "execution_count": 12,
     "metadata": {},
     "output_type": "execute_result"
    }
   ],
   "source": [
    "track_names[9]"
   ]
  },
  {
   "cell_type": "code",
   "execution_count": 14,
   "metadata": {},
   "outputs": [
    {
     "data": {
      "text/plain": [
       "120953.03"
      ]
     },
     "execution_count": 14,
     "metadata": {},
     "output_type": "execute_result"
    }
   ],
   "source": [
    "i=0\n",
    "for x in stream_numbers:\n",
    "    i = x + i\n",
    "    \n",
    "i/len(stream_numbers)    "
   ]
  },
  {
   "cell_type": "markdown",
   "metadata": {
    "slideshow": {
     "slide_type": "slide"
    }
   },
   "source": [
    "# Modularização\n",
    "\n",
    "Mas e se quiséssemos reutilizar esse código outras vezes? Teríamos que reescrever essas mesmas linhas? \n",
    "\n",
    "![title](imgs/slide11.svg)\n"
   ]
  },
  {
   "cell_type": "markdown",
   "metadata": {
    "slideshow": {
     "slide_type": "slide"
    }
   },
   "source": [
    "A idéia de um código modular é justamente esse pensamento em **funções** !\n",
    "\n",
    "![title](imgs/slide12.svg)\n"
   ]
  },
  {
   "cell_type": "markdown",
   "metadata": {
    "slideshow": {
     "slide_type": "slide"
    }
   },
   "source": [
    "Transformar nosso código em módulos, permite que nós ocultemos a lógica de fomar que outros podem usar as nossas funções sem precisar entender como que ela foi implementada. E aí, se outras pessoas querem usar esse dado, basta importar o módulo.\n",
    "\n",
    "![title](imgs/slide13.svg)"
   ]
  },
  {
   "cell_type": "markdown",
   "metadata": {
    "slideshow": {
     "slide_type": "subslide"
    }
   },
   "source": [
    "# Organizando o código\n",
    "\n",
    "Esse conceito de organização de código é conhecido por **programação modular**, em que justamente montamos o nosso código em **módulos** para facilitar o debug e reutilização de código. Geralmente, esse princípio se baseia nos 3 *R*'s: \n",
    "\n",
    "- Readability: How can I write read-able code?\n",
    "- Re-usability: How can I write re-usable code?\n",
    "- Reliability: How can I write reliable code?"
   ]
  },
  {
   "cell_type": "markdown",
   "metadata": {
    "slideshow": {
     "slide_type": "slide"
    }
   },
   "source": [
    "# Abstração\n",
    "\n",
    "Uma vez entendia a necessidade de modularizar o código, é bom passarmos pelos conceitos de Abstração, já que ela é necessária para o desenvolvimento e estruturação de um software de qualidade."
   ]
  },
  {
   "cell_type": "code",
   "execution_count": 10,
   "metadata": {
    "slideshow": {
     "slide_type": "subslide"
    }
   },
   "outputs": [
    {
     "data": {
      "image/jpeg": "[encoded data removed]",
      "text/html": [
       "\n",
       "        <iframe\n",
       "            width=\"400\"\n",
       "            height=\"300\"\n",
       "            src=\"https://www.youtube.com/embed/6V1sr0XV_Ng\"\n",
       "            frameborder=\"0\"\n",
       "            allowfullscreen\n",
       "        ></iframe>\n",
       "        "
      ],
      "text/plain": [
       "<IPython.lib.display.YouTubeVideo at 0x7f282c6887b8>"
      ]
     },
     "execution_count": 10,
     "metadata": {},
     "output_type": "execute_result"
    }
   ],
   "source": [
    "from IPython.lib.display import YouTubeVideo\n",
    "YouTubeVideo('6V1sr0XV_Ng')"
   ]
  },
  {
   "cell_type": "markdown",
   "metadata": {
    "slideshow": {
     "slide_type": "slide"
    }
   },
   "source": [
    "# Paradigmas de Programação\n",
    "\n",
    "Além de funções, podemos utilizar o conceito de abstração para estruturar o código, ou até as linguagens mesmo. Os paradigmas mais comuns são:\n",
    "    - Paradigma Imperativo (Procedural)\n",
    "    - Paradigma Declarativo (Funcional)\n",
    "    - Paradigma Orientado a Objetos"
   ]
  },
  {
   "cell_type": "markdown",
   "metadata": {
    "slideshow": {
     "slide_type": "subslide"
    }
   },
   "source": [
    "## Funcional vs Imperativo\n",
    "\n",
    "![title](imgs/slide14.gif)"
   ]
  },
  {
   "cell_type": "markdown",
   "metadata": {
    "slideshow": {
     "slide_type": "subslide"
    }
   },
   "source": [
    "Os Paradigmas declarativo vs imperativo são apenas *buzzwords* para descrever a programação em diferentes níveis de abstração\n",
    "\n",
    "Processo e Funções são subrotinas que são usadas para re-executar blocos pré difinidos de código.\n",
    "\n",
    "\n",
    "- Funções **devem** retornar um valor ; processos não.\n",
    "\n",
    "- **What to do, not how to do it** - Declarativo\n",
    "\n",
    "- **How to do it, not what to do** - Imperativo\n",
    "\n"
   ]
  },
  {
   "cell_type": "code",
   "execution_count": 68,
   "metadata": {
    "slideshow": {
     "slide_type": "subslide"
    }
   },
   "outputs": [
    {
     "data": {
      "text/plain": [
       "15"
      ]
     },
     "execution_count": 68,
     "metadata": {},
     "output_type": "execute_result"
    }
   ],
   "source": [
    "list_values = [1,2,3,4,5]\n",
    "\n",
    "def soma(list_values):\n",
    "    i = None\n",
    "    for x in list_values:\n",
    "        if i==None:\n",
    "            i = 0\n",
    "        i+=x\n",
    "    return i\n",
    "\n",
    "soma(list_values)"
   ]
  },
  {
   "cell_type": "code",
   "execution_count": 63,
   "metadata": {
    "slideshow": {
     "slide_type": "subslide"
    }
   },
   "outputs": [
    {
     "data": {
      "text/plain": [
       "15"
      ]
     },
     "execution_count": 63,
     "metadata": {},
     "output_type": "execute_result"
    }
   ],
   "source": [
    "def soma(list_values):\n",
    "    if(len(list_values)==1):\n",
    "        return list_values[0]\n",
    "    return list_values[0] + soma(list_values[1:])\n",
    "\n",
    "soma(list_values)"
   ]
  },
  {
   "cell_type": "code",
   "execution_count": 139,
   "metadata": {
    "slideshow": {
     "slide_type": "subslide"
    }
   },
   "outputs": [
    {
     "data": {
      "text/plain": [
       "4"
      ]
     },
     "execution_count": 139,
     "metadata": {},
     "output_type": "execute_result"
    }
   ],
   "source": [
    "soma_dois = lambda x, y : x+ y\n",
    "\n",
    "soma_dois(1,3)"
   ]
  },
  {
   "cell_type": "markdown",
   "metadata": {
    "slideshow": {
     "slide_type": "slide"
    }
   },
   "source": [
    "# Por quê é bom saber o paradigma funcional?\n",
    "\n",
    "![](imgs/slide15.svg)"
   ]
  },
  {
   "cell_type": "markdown",
   "metadata": {
    "slideshow": {
     "slide_type": "slide"
    }
   },
   "source": [
    "# Break\n",
    "\n",
    "![](https://media.giphy.com/media/26tniH2xNFcm9h74A/giphy.gif)"
   ]
  }
 ],
 "metadata": {
  "celltoolbar": "Slideshow",
  "kernelspec": {
   "display_name": "Python 3",
   "language": "python",
   "name": "python3"
  },
  "language_info": {
   "codemirror_mode": {
    "name": "ipython",
    "version": 3
   },
   "file_extension": ".py",
   "mimetype": "text/x-python",
   "name": "python",
   "nbconvert_exporter": "python",
   "pygments_lexer": "ipython3",
   "version": "3.6.6"
  }
 },
 "nbformat": 4,
 "nbformat_minor": 2
}
