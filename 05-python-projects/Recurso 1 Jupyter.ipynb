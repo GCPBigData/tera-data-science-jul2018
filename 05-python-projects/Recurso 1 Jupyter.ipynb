{
 "cells": [
  {
   "cell_type": "markdown",
   "metadata": {
    "slideshow": {
     "slide_type": "slide"
    }
   },
   "source": [
    "# O que são Jupyter notebooks\n",
    "\n",
    "\n",
    "- Jupyter = Julia, Python, and R.\n",
    "- Aplicações web\n",
    "- Combina Textos, equações, código e visualizalções"
   ]
  },
  {
   "cell_type": "code",
   "execution_count": 2,
   "metadata": {
    "slideshow": {
     "slide_type": "slide"
    }
   },
   "outputs": [
    {
     "data": {
      "text/plain": [
       "2"
      ]
     },
     "execution_count": 2,
     "metadata": {},
     "output_type": "execute_result"
    }
   ],
   "source": [
    "1+1"
   ]
  },
  {
   "cell_type": "code",
   "execution_count": 3,
   "metadata": {},
   "outputs": [
    {
     "name": "stdout",
     "output_type": "stream",
     "text": [
      "Ola mundo !\n"
     ]
    }
   ],
   "source": [
    "print(\"Ola mundo !\")"
   ]
  },
  {
   "cell_type": "code",
   "execution_count": 4,
   "metadata": {},
   "outputs": [
    {
     "data": {
      "text/plain": [
       "3"
      ]
     },
     "execution_count": 4,
     "metadata": {},
     "output_type": "execute_result"
    }
   ],
   "source": [
    "a = 3\n",
    "a"
   ]
  },
  {
   "cell_type": "markdown",
   "metadata": {
    "slideshow": {
     "slide_type": "slide"
    }
   },
   "source": [
    "# Literate programming\n",
    "\n",
    "Notebooks são uma forma derivada de programação literária, termo cunhado por Donald Knuth em 1984\n",
    "\n",
    "\n",
    "\n",
    "- \"Instead of imagining that our main task is to instruct a computer what to do, let us concentrate rather on explaining to human beings what we want a computer to do.\"\n",
    "\n",
    "\n",
    "No fim, temos uma narrativa junto com o código"
   ]
  },
  {
   "cell_type": "markdown",
   "metadata": {
    "slideshow": {
     "slide_type": "slide"
    }
   },
   "source": [
    "# Mas e como isso funciona?\n",
    "\n",
    "Jupyter notebooks são uma derivação do projeto iniciado por Fernando Perez, o IPython. \n",
    "\n",
    "O IPython é um shell interativo, similar ao que temos no Python tradicional ou R. Inicialmente, notebooks funcionavam da seguinte forma: eles enviavam mensagens a partir de uma aplicação web para um kernel IPython (que é uma aplicação rodando em background). A arquitetura é mais ou menos da figura abaixo\n",
    "\n",
    "![title](imgs/slide10.png)"
   ]
  }
 ],
 "metadata": {
  "kernelspec": {
   "display_name": "Python 3",
   "language": "python",
   "name": "python3"
  },
  "language_info": {
   "codemirror_mode": {
    "name": "ipython",
    "version": 3
   },
   "file_extension": ".py",
   "mimetype": "text/x-python",
   "name": "python",
   "nbconvert_exporter": "python",
   "pygments_lexer": "ipython3",
   "version": "3.6.6"
  }
 },
 "nbformat": 4,
 "nbformat_minor": 2
}
