{
 "cells": [
  {
   "cell_type": "markdown",
   "metadata": {
    "slideshow": {
     "slide_type": "slide"
    }
   },
   "source": [
    "![lerolero](https://media.giphy.com/media/13Ad2mtKsGukPC/giphy.gif)"
   ]
  },
  {
   "cell_type": "markdown",
   "metadata": {
    "slideshow": {
     "slide_type": "slide"
    }
   },
   "source": [
    "# O problema\n",
    "\n",
    "É comum quando trabalhamos em diferentes projetos de Data Science, encontrarmos bibliotecas diferentes, tecnologias em atualizações diferentes e até o Python em versão diferente.\n",
    "\n",
    "Para resolver esse tipo de trabalhar, usamos o que é chamado de **virtual enviroments** que permitem com que usemos bibliotecas em versões diferentes dentro de um mesmo computador !"
   ]
  },
  {
   "cell_type": "markdown",
   "metadata": {
    "slideshow": {
     "slide_type": "subslide"
    }
   },
   "source": [
    "# A solução\n",
    "\n",
    "- Mas afinal, o que é o Anaconda?"
   ]
  },
  {
   "cell_type": "markdown",
   "metadata": {
    "slideshow": {
     "slide_type": "subslide"
    }
   },
   "source": [
    "O Anaconda é um conjunto de distribuições de bibliotecas construídos **especificamente** para cientistas de dados !\n",
    "\n",
    "![](https://media.giphy.com/media/OIiozVXDuyBC8/giphy.gif)"
   ]
  },
  {
   "cell_type": "markdown",
   "metadata": {
    "slideshow": {
     "slide_type": "slide"
    }
   },
   "source": [
    "O Anaconda acompanha o *Conda*, que é um pacote e gerenciador de ambientes que você utiliza para instalar as bibliotecas.\n",
    "\n",
    "Então, temos duas coisas, o *Conda* que gerencia os pacotes e o *Anaconda* que é algo maior !"
   ]
  },
  {
   "cell_type": "markdown",
   "metadata": {
    "slideshow": {
     "slide_type": "slide"
    }
   },
   "source": [
    "![title](imgs/slide07.png)"
   ]
  },
  {
   "cell_type": "markdown",
   "metadata": {
    "slideshow": {
     "slide_type": "subslide"
    }
   },
   "source": [
    "![title](imgs/slide08.png)"
   ]
  },
  {
   "cell_type": "markdown",
   "metadata": {
    "slideshow": {
     "slide_type": "slide"
    }
   },
   "source": [
    "# pip vs conda vs brew vs yum\n",
    "\n",
    "- Homebew; apt; yum são gerenciadores de sistema\n",
    "\n",
    "- pip é exclusivo do python\n",
    "\n",
    "- conda pode pegar coisas além do python\n",
    "\n",
    "- não se deve utilizar pip e conda como se fossem a mesma coisa"
   ]
  },
  {
   "cell_type": "markdown",
   "metadata": {
    "slideshow": {
     "slide_type": "notes"
    }
   },
   "source": [
    "\n",
    "Homebrew é um gerenciador de pacotes geral, ligado ao OSX. É algo semelhante ao apt do Ubuntu ou o yum do Debian.\n",
    "O *pip* por sua vez, é um gerenciador de pacotes apenas de bibliotecas e softwares do python. Então é como se fosse um subset de gerenciadores.\n",
    "\n",
    "Já o **conda** é uma ferramenta de pacotes e instaladores que visa fazer mais do que o pip uma vez que ela pode lidar com dependências que existem fora do mundo Python (como alguma referência que está escrita em C, ou R), além de permitir a instalação de ambientes virtuais, enquanto tudo que é instalado pelo *pip* apenas é inserido na raiz.\n",
    "\n",
    "Uma vez que o *conda* apresenta um novo sistema de gerenciamento de pacotes, não se deve utilizar instalações via pip ou conda como se fossem duas coisas iguais. Regra de ouro: tente instalar via conda e apenas se não derm use o pip !\n"
   ]
  },
  {
   "cell_type": "markdown",
   "metadata": {
    "slideshow": {
     "slide_type": "slide"
    }
   },
   "source": [
    "# Considerações\n",
    "\n",
    "\n",
    "- Nós usaremos o mesmo ambiente no decorrer do **curso todo**\n",
    "- Os principais pacotes já foram instalados para vocês\n",
    "- É o ambiente é o arquivo terminado em .yml\n",
    "\n",
    "Por fim, o anaconda possui uma interface gráfica, o Anaconda Navigator"
   ]
  },
  {
   "cell_type": "markdown",
   "metadata": {
    "slideshow": {
     "slide_type": "slide"
    }
   },
   "source": [
    "![title](imgs/slide9.png)"
   ]
  }
 ],
 "metadata": {
  "celltoolbar": "Slideshow",
  "kernelspec": {
   "display_name": "Python 3",
   "language": "python",
   "name": "python3"
  },
  "language_info": {
   "codemirror_mode": {
    "name": "ipython",
    "version": 3
   },
   "file_extension": ".py",
   "mimetype": "text/x-python",
   "name": "python",
   "nbconvert_exporter": "python",
   "pygments_lexer": "ipython3",
   "version": "3.6.6"
  }
 },
 "nbformat": 4,
 "nbformat_minor": 2
}
