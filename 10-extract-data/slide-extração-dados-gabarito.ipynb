{
 "cells": [
  {
   "cell_type": "markdown",
   "metadata": {
    "slideshow": {
     "slide_type": "slide"
    }
   },
   "source": [
    "# Aula 10 - Extração de dados de fontes remotas para visualização e análise\n",
    "\n",
    "<center>\n",
    "<img src=\"https://oestatistico.com.br/wp-content/uploads/2016/06/Structured-Data.jpg\" alt=\"drawing\" width=\"500px\"></center>"
   ]
  },
  {
   "cell_type": "markdown",
   "metadata": {
    "slideshow": {
     "slide_type": "slide"
    }
   },
   "source": [
    "**Intrutora:** Patrícia Pampanelli (@patriciapampanelli no Slack)\n",
    "\n",
    "**Experiência:**\n",
    "- Cientista da Computação (UFJF)\n",
    "- Mestre em Modelagem Computacional (UFJF)\n",
    "- Doutora em Processamento de Imagens e Visão Computacional (PUC-Rio)\n",
    "- Sênior Data Scientist - Grupo ZAP\n"
   ]
  },
  {
   "cell_type": "markdown",
   "metadata": {
    "slideshow": {
     "slide_type": "slide"
    }
   },
   "source": [
    "**Interesses:**\n",
    "- Carros Autônomos <img src=\"https://cdn1.iconfinder.com/data/icons/transportation-vehicles-2/128/self-driving-car-g-radar-512.png\" alt=\"drawing\" width=\"80px\"> \n",
    "- Visão Computacional <img src=\"https://static.thenounproject.com/png/1119966-200.png\" alt=\"drawing\" width=\"80px\">\n",
    "- Processamento de Linguagem Natural <img src=\"https://upload.wikimedia.org/wikipedia/en/thumb/1/11/Fast_text.png/800px-Fast_text.png\" alt=\"drawing\" width=\"80px\">\n",
    "- Intelligent Video Analytics <img src=\"https://image.freepik.com/iconen-gratis/videocamera-symbool_318-40225.jpg\" alt=\"drawing\" width=\"80px\">"
   ]
  },
  {
   "cell_type": "markdown",
   "metadata": {
    "slideshow": {
     "slide_type": "slide"
    }
   },
   "source": [
    "# O que é uma API?\n",
    "\n",
    "<center>\n",
    "<video controls src=\"whats-is-an-api.mp4\" size=10/></center>\n",
    "Link: https://www.youtube.com/watch?v=s7wmiS2mSXY"
   ]
  },
  {
   "cell_type": "markdown",
   "metadata": {
    "slideshow": {
     "slide_type": "slide"
    }
   },
   "source": [
    "# Como são formadas as APIs REST\n",
    "\n",
    "Podemos dizer que uma API é como se fosse uma página da web só que para computadores. Só eles conseguirem acessar, ler e interagir da maneira adequada com as APIs.\n",
    "\n",
    "Como Data Scientists, vocês utilizarão APIs tanto internas (fornecidas pelas próprias empresas em que vocês trabalham) quanto externas.\n",
    "\n",
    "APIs são uma das principais formas que um Data Scientist utiliza para obter os dados que devem ser analisados.\n",
    "\n",
    "<center>\n",
    "<img src=\"https://cdn-images-1.medium.com/max/1600/1*CkynRe-J1FVnUAk7JmOTdQ.gif\" alt=\"drawing\" width=\"600px\"></center>"
   ]
  },
  {
   "cell_type": "markdown",
   "metadata": {
    "slideshow": {
     "slide_type": "slide"
    }
   },
   "source": [
    "Como exemplo, ao acessarmos a API da Jsonplaceholder https://jsonplaceholder.typicode.com/posts/1, vemos o retorno abaixo, ao invés de uma página comum:\n",
    "\n",
    "```python\n",
    "{\n",
    "  \"userId\": 1,\n",
    "  \"id\": 1,\n",
    "  \"title\": \"sunt aut facere repellat provident occaecati excepturi optio reprehenderit\",\n",
    "  \"body\": \"quia et suscipit\\nsuscipit recusandae consequuntur expedita et cum\\nreprehenderit molestiae ut ut quas totam\\nnostrum rerum est autem sunt rem eveniet architecto\"\n",
    "}\n",
    "```\n",
    "\n",
    "Esse padrão de resposta é o que chamamos de JSON (*JavaScript Object Notation - Notação de Objetos JavaScript*), e este é o tipo de resposta mais comum entre as APIs.\n",
    "\n",
    "Ele foi feito para que máquinas entendam seus dados e os utilizem como quiser."
   ]
  },
  {
   "cell_type": "markdown",
   "metadata": {
    "slideshow": {
     "slide_type": "slide"
    }
   },
   "source": [
    "# Como funciona o protocolo HTTP\n",
    "\n",
    "A internet trafega através do protocolo **HTTP (*Hypertext Transfer Protocol*)**. O protocolo HTTP foi criado por **Tim Berners-Lee**, o criador da web, enquanto ele trabalhava na CERN em 1989 (sua equipe e ele também foram responsáveis pelo HTML).\n",
    "\n",
    "O HTTP possui duas entidades básicas: a **Request (pedido)** e a **Response (resposta)**\n",
    "\n",
    "Sempre que entramos em uma página, enviamos uma request para o servidor do site e esperamos uma response com o HTML da página."
   ]
  },
  {
   "cell_type": "markdown",
   "metadata": {
    "slideshow": {
     "slide_type": "slide"
    }
   },
   "source": [
    "Sempre que enviamos um ***Request (pedido)*** devemos especificar um método. A tabela abaixo cita os métodos mais comuns e explica brevemente o objetivo de cada um:\n",
    "\n",
    "| Método |        Objetivo       |\n",
    "|:------:|:---------------------:|\n",
    "| GET    | Obter informações     |\n",
    "| POST   | Salvar informações    |\n",
    "| PUT    | Atualizar informações |\n",
    "| DELETE | Deletar informações   |\n",
    "\n",
    "Todos eles são comumente utilizados por APIs.\n",
    "\n",
    "O método ***GET*** é o que seu navegador usa para baixar o HTML da página.\n",
    "\n",
    "O metódo ***POST*** também é muito utilizado sempre que você envia algum formulário em um site.\n",
    "\n",
    "Além do método, as requisições também possuem um **header**:\n",
    "\n",
    "O **Header (cabeçalho)** tem a função de dizer para o servidor diversos dados sobre quem fez a solicitação. Dessa forma, o servidor consegue até permitir que você veja mais informações dependendo do seu nível de acesso."
   ]
  },
  {
   "cell_type": "markdown",
   "metadata": {
    "slideshow": {
     "slide_type": "slide"
    }
   },
   "source": [
    "Todos as respostas possuem, além do conteúdo da resposta, um código de status.\n",
    "\n",
    "Os códigos de status (status code) seguem um padrão.\n",
    "\n",
    "Os mais comuns são:\n",
    "\n",
    "| Código |                                    Significado                                    |\n",
    "|:------:|:---------------------------------------------------------------------------------:|\n",
    "| 200    | Ok                                                                                |\n",
    "| 3XX    | O servidor vai te redirecionar para outra URL                                     |\n",
    "| 4XX    | O recurso não foi encontrado, não está mais disponível, etc                       |\n",
    "| 5XX    | Algum problema aconteceu no servidor e ele não conseguiu processar a sua request  |"
   ]
  },
  {
   "cell_type": "markdown",
   "metadata": {
    "slideshow": {
     "slide_type": "slide"
    }
   },
   "source": [
    "Outra característica das APIs REST é a **divisão dos recursos**. Por exemplo:\n",
    "\n",
    "https://jsonplaceholder.typicode.com/users/1\n",
    "\n",
    "Ao abrirmos esta URL estamos fazendo um GET para obtermos informações do usuário (/users) com código 1 (/1). Podemos trocar o código do usuário para buscar outros usuários.\n",
    "\n",
    "Também podemos pedir todos os usuários digitando:\n",
    "\n",
    "https://jsonplaceholder.typicode.com/users\n"
   ]
  },
  {
   "cell_type": "markdown",
   "metadata": {
    "slideshow": {
     "slide_type": "slide"
    }
   },
   "source": [
    "Também é muito comum o uso de parâmetros na URL para passarmos **filtros para a API**. Por exemplo:\n",
    "\n",
    "https://jsonplaceholder.typicode.com/comments?postId=1\n",
    "\n",
    "Perceba o **\"?postId=1\"** ao final da URL.\n",
    "\n",
    "Sempre que precisamos passar parâmetros, começamos com um ponto de interrogação (?) e depois utilizamos o & para parâmetros futuros. Por exemplo:\n",
    "\n",
    "https://jsonplaceholder.typicode.com/comments?postId=1&id=3"
   ]
  },
  {
   "cell_type": "markdown",
   "metadata": {
    "slideshow": {
     "slide_type": "slide"
    }
   },
   "source": [
    "# Como funciona o pacote Requests\n",
    "\n",
    "Como vimos anteriormente, o pacote requests do Python é utilizado para nos comunicarmos com URLs.\n",
    "\n",
    "Podemos realizar GET, POST, PUT, DELETE e quaisquer outros métodos HTTP com ele."
   ]
  },
  {
   "cell_type": "code",
   "execution_count": 3,
   "metadata": {
    "slideshow": {
     "slide_type": "subslide"
    }
   },
   "outputs": [
    {
     "name": "stdout",
     "output_type": "stream",
     "text": [
      "[{'postId': 1, 'id': 3, 'name': 'odio adipisci rerum aut animi', 'email': 'Nikita@garfield.biz', 'body': 'quia molestiae reprehenderit quasi aspernatur\\naut expedita occaecati aliquam eveniet laudantium\\nomnis quibusdam delectus saepe quia accusamus maiores nam est\\ncum et ducimus et vero voluptates excepturi deleniti ratione'}]\n"
     ]
    }
   ],
   "source": [
    "# Veja no exemplo abaixo como podemos fazer isso:\n",
    "\n",
    "import requests\n",
    "\n",
    "api = requests.get('https://jsonplaceholder.typicode.com/comments?postId=1&id=3')\n",
    "\n",
    "json = api.json()\n",
    "print(json)\n",
    "#for user in json:\n",
    "#    print('{0} ({1}) - {2}'.format(user['name'], user['email'], user['website']))"
   ]
  },
  {
   "cell_type": "markdown",
   "metadata": {
    "slideshow": {
     "slide_type": "slide"
    }
   },
   "source": [
    "# Exercício - Extraindo Dados do CoinMarketCap via API\n",
    "\n",
    "Vamos usar o pacote requests para o acessar a API do CoinMarketCap.\n",
    "\n",
    "As instruções da API estão disponíveis em: https://coinmarketcap.com/api/\n",
    "\n",
    "Deveremos extrair os seguintes dados:\n",
    "\n",
    "- Nome da moeda\n",
    "- Preço atual CONVERTIDO EM REAIS\n",
    "- O valor de mercado total\n",
    "- O valor atual em circulação\n",
    "- Percentual de mudança nas últimas 24 horas\n",
    "- Também deveremos limitar para que a API traga apenas 5 moedas para trabalharmos\n",
    "\n",
    "*Tempo: 10 minutos*"
   ]
  },
  {
   "cell_type": "code",
   "execution_count": null,
   "metadata": {
    "slideshow": {
     "slide_type": "subslide"
    }
   },
   "outputs": [],
   "source": [
    "import requests\n",
    "\n",
    "api = requests.get('API')\n",
    "\n",
    "json = api.json()\n",
    "\n",
    "for moeda in json:\n",
    "    nome = 'moed'\n",
    "    preco = '$222'\n",
    "    valor_mercado = '$555' \n",
    "    em_circulacao = '46465'\n",
    "    percentual_dia = '1.56%'\n",
    "    print('{0}: {1} ({2} / 24h)'.format(nome, preco, percentual_dia))\n",
    "    print('Em circulação: {0}'.format(em_circulacao))\n",
    "    print('Valor de mercado: {0}'.format(valor_mercado))\n",
    "    print('-------------')"
   ]
  },
  {
   "cell_type": "code",
   "execution_count": null,
   "metadata": {
    "slideshow": {
     "slide_type": "subslide"
    }
   },
   "outputs": [],
   "source": [
    "import requests\n",
    "\n",
    "api = requests.get('https://api.coinmarketcap.com/v1/ticker/?convert=BRL&limit=5')\n",
    "\n",
    "json = api.json()\n",
    "\n",
    "for moeda in json:\n",
    "    nome = moeda['name']\n",
    "    preco = moeda['price_brl']\n",
    "    valor_mercado = moeda['market_cap_brl']\n",
    "    em_circulacao = moeda['available_supply']\n",
    "    percentual_dia = moeda['percent_change_24h']\n",
    "    print('{0}: {1} ({2} / 24h)'.format(nome, preco, percentual_dia))\n",
    "    print('Em circulação: {0}'.format(em_circulacao))\n",
    "    print('Valor de mercado: {0}'.format(valor_mercado))\n",
    "    print('-------------')"
   ]
  },
  {
   "cell_type": "markdown",
   "metadata": {
    "slideshow": {
     "slide_type": "slide"
    }
   },
   "source": [
    "# Como utilizar APIs com autenticação\n",
    "\n",
    "É muito comum encontrarmos APIs que necessitam de autenticação. Isto é, algum identificador que diz para ela quem está requisitando aquela informação.\n",
    "\n",
    "Para realizarmos autenticação em APIs REST nós normalmente utilizamos um Header e um Token de acesso.\n",
    "\n",
    "Porém, algumas APIs também utilizam parâmetros para realizar a autenticação.\n",
    "\n",
    "Abaixo vamos ver como acessar a API da Battuta (https://battuta.medunes.net/) utilizando um token.\n",
    "\n",
    "A Battuta é um serviço para dados geográficos.\n",
    "\n",
    "*Aviso para leitores do futuro: se essa key não funcionar, é só entrar no site da battuta e gerar uma nova digitando o seu e-mail.*"
   ]
  },
  {
   "cell_type": "code",
   "execution_count": 7,
   "metadata": {
    "slideshow": {
     "slide_type": "subslide"
    }
   },
   "outputs": [
    {
     "name": "stdout",
     "output_type": "stream",
     "text": [
      "{'error': 'Missing API key. Please visit battuta.medunes.net to get an API key. Also read the documentation for more information.'}\n"
     ]
    },
    {
     "ename": "TypeError",
     "evalue": "string indices must be integers",
     "output_type": "error",
     "traceback": [
      "\u001b[0;31m---------------------------------------------------------------------------\u001b[0m",
      "\u001b[0;31mTypeError\u001b[0m                                 Traceback (most recent call last)",
      "\u001b[0;32m<ipython-input-7-de117e56e673>\u001b[0m in \u001b[0;36m<module>\u001b[0;34m()\u001b[0m\n\u001b[1;32m     10\u001b[0m \u001b[0;34m\u001b[0m\u001b[0m\n\u001b[1;32m     11\u001b[0m \u001b[0;32mfor\u001b[0m \u001b[0mcountry\u001b[0m \u001b[0;32min\u001b[0m \u001b[0mjson\u001b[0m\u001b[0;34m:\u001b[0m\u001b[0;34m\u001b[0m\u001b[0m\n\u001b[0;32m---> 12\u001b[0;31m     \u001b[0mprint\u001b[0m\u001b[0;34m(\u001b[0m\u001b[0;34m'{0} ({1})'\u001b[0m\u001b[0;34m.\u001b[0m\u001b[0mformat\u001b[0m\u001b[0;34m(\u001b[0m\u001b[0mcountry\u001b[0m\u001b[0;34m[\u001b[0m\u001b[0;34m'name'\u001b[0m\u001b[0;34m]\u001b[0m\u001b[0;34m,\u001b[0m \u001b[0mcountry\u001b[0m\u001b[0;34m[\u001b[0m\u001b[0;34m'code'\u001b[0m\u001b[0;34m]\u001b[0m\u001b[0;34m)\u001b[0m\u001b[0;34m)\u001b[0m\u001b[0;34m\u001b[0m\u001b[0m\n\u001b[0m",
      "\u001b[0;31mTypeError\u001b[0m: string indices must be integers"
     ]
    }
   ],
   "source": [
    "import  requests\n",
    "\n",
    "payload = {'key': 'ce46369940c2632e9c160b0474bf49a3'}\n",
    "\n",
    "api = requests.get('http://battuta.medunes.net/api/country/all/')\n",
    "\n",
    "json = api.json()\n",
    "\n",
    "print(json)\n",
    "\n",
    "for country in json:\n",
    "    print('{0} ({1})'.format(country['name'], country['code']))"
   ]
  },
  {
   "cell_type": "markdown",
   "metadata": {
    "slideshow": {
     "slide_type": "slide"
    }
   },
   "source": [
    "Como você pode ver, utilizamos uma váriavel com todos os parâmetros que gostaríamos de passar.\n",
    "\n",
    "O pacote *requests* do python colocou automaticamente o ponto de interrogação na URL para você!"
   ]
  },
  {
   "cell_type": "code",
   "execution_count": null,
   "metadata": {
    "slideshow": {
     "slide_type": "slide"
    }
   },
   "outputs": [],
   "source": [
    "# Caso você se depare com uma API que utilize Headers, basta utilizar o exemplo abaixo como base.\n",
    "\n",
    "import requests\n",
    "\n",
    "h = {'my-custom-header': 'i am the one who knocks'}\n",
    "\n",
    "r = requests.get('http://battuta.medunes.net/api/country/all/?key=ce46369940c2632e9c160b0474bf49a3', headers=h)\n",
    "\n",
    "json = r.json()\n",
    "\n",
    "for country in json:\n",
    "    print('{0} ({1})'.format(country['name'], country['code']))"
   ]
  },
  {
   "cell_type": "markdown",
   "metadata": {
    "slideshow": {
     "slide_type": "slide"
    }
   },
   "source": [
    "# Escrita e leitura de arquivos em Python\n",
    "\n",
    "Em Python, assim como em outras linguagens de programação, podemos manipular arquivos que estão em nosso disco.\n",
    "\n",
    "Para isso, utilizamos o open para nos trazer um objeto de arquivo.\n",
    "\n",
    "O open precisa saber o nome do arquivo para conseguir ler seu conteúdo:\n",
    "\n",
    "```python\n",
    "open(\"nome_do_arquivo\")\n",
    "```\n",
    "\n",
    "No entanto, existe um segundo argumento que podemos passar para dizer qual o modo que queremos trabalhar com esse arquivo.\n",
    "\n",
    "Abaixo podemos ver exemplos de códigos com os modos mais comuns:\n",
    "\n",
    "```python\n",
    "open('nome_do_arquivo', 'r')  #Apenas leitura - padrão quando o modo é omitido\n",
    "\n",
    "open('nome_do_arquivo', 'r+') #Leitura e escrita\n",
    "\n",
    "open('nome_do_arquivo', 'w')  #Apenas escrita, apaga tudo que tem no arquivo antes de escrever novamente\n",
    "\n",
    "open('nome_do_arquivo', 'a')  #\"Append\", adiciona o que você quiser ao final do arquivo, sem apagar nada\n",
    "```"
   ]
  },
  {
   "cell_type": "markdown",
   "metadata": {
    "slideshow": {
     "slide_type": "slide"
    }
   },
   "source": [
    "Também existe um argumento para passarmos em qual encoding gostaríamos de escrever.\n",
    "\n",
    "```python\n",
    "open('nome_do_arquivo', 'w', encoding='utf-8')\n",
    "```"
   ]
  },
  {
   "cell_type": "markdown",
   "metadata": {
    "slideshow": {
     "slide_type": "slide"
    }
   },
   "source": [
    "Você pode conferir todos os parâmetros do método open aqui: https://docs.python.org/3/library/functions.html#open\n",
    "\n",
    "Todo o processo de escrita e leitura de arquivos deve ser feita com muito cuidado. Como são operações mais lentas, você pode acabar travando seu computador se fizer um loop errado enquanto escreve um arquivo.\n",
    "\n",
    "Por isso, é muito importante se lembrar de SEMPRE fechar o arquivo após o uso dele no Python.\n",
    "\n",
    "Vamos ver um exemplo:\n",
    "\n",
    "```python\n",
    "f = open('arquivo_teste.txt', 'w')\n",
    "\n",
    "f.write('Alô? Alguém me escuta?')\n",
    "\n",
    "f.close()\n",
    "```\n"
   ]
  },
  {
   "cell_type": "markdown",
   "metadata": {
    "slideshow": {
     "slide_type": "slide"
    }
   },
   "source": [
    "# Porque o Context Manager (with) é necessário\n",
    "\n",
    "Em Python, podemos pedir ajuda de um Context Manager para automaticamente fechar o arquivo após o uso.\n",
    "\n",
    "Isso é a recomendação das boas práticas e evita que seu código tenha bugs.\n",
    "\n",
    "Para utilizarmos essa funcionalidade, basta utilizar a palavra reservada with\n",
    "\n",
    "Vamos ver um exemplo:\n",
    "\n",
    "```python\n",
    "with open(('arquivo_teste.txt''arquivo , 'r') as f:\n",
    "    print(f.readline())\n",
    "\n",
    "print('\\n\\nSerá que o arquivo está fechado? {0}'.format(f.closed))\n",
    "```\n"
   ]
  },
  {
   "cell_type": "markdown",
   "metadata": {
    "slideshow": {
     "slide_type": "slide"
    }
   },
   "source": [
    "# O que é um arquivo CSV (*Comma-separated values*)\n",
    "\n",
    "Arquivos CSV são apenas uma coleção de dados separados por um caractere especial (normalmente , ou ;).\n",
    "\n",
    "Eles são muito importantes para fazer movimentações de dados de um lugar para o outro.\n",
    "\n",
    "Todos os softwares de planilha do mercado aceitam arquivos CSV.\n",
    "\n",
    "Alguns cuidados que devemos seguir ao criar um arquivo CSV:\n",
    "\n",
    "- Sempre terminar as linhas com **\\n**\n",
    "- Sempre utilizar o encoding como **utf-8**\n",
    "- Utilizar caracteres que não influenciam no dado (ex.: vírgulas para separar dados númericos que também usam vírgulas)\n",
    "\n",
    "Vamos ver um exemplo de como podemos criar um arquivo CSV em Python a partir do scraping da API do Jsonplaceholder."
   ]
  },
  {
   "cell_type": "code",
   "execution_count": null,
   "metadata": {
    "slideshow": {
     "slide_type": "subslide"
    }
   },
   "outputs": [],
   "source": [
    "import requests\n",
    "\n",
    "api = requests.get('https://jsonplaceholder.typicode.com/users')\n",
    "\n",
    "json = api.json()\n",
    "\n",
    "with open('lista_de_usuarios.csv', 'w', encoding='utf-8') as f:\n",
    "    for user in json:\n",
    "        f.write('{0};{1};{2}\\n'.format(user['name'], user['email'], user['website']))\n",
    "\n",
    "        \n",
    "# Vamos ler nosso arquivo\n",
    "with open('lista_de_usuarios.csv', 'r') as r:\n",
    "    for line in r:\n",
    "        print(line)"
   ]
  },
  {
   "cell_type": "markdown",
   "metadata": {
    "slideshow": {
     "slide_type": "slide"
    }
   },
   "source": [
    "# Exercício - CSV com os dados do CoinMarketCap\n",
    "\n",
    "Vamos usar o pacote requests para o acessar a API do CoinMarketCap e em seguida gravar o retorno em um CSV.\n",
    "\n",
    "As instruções da API estão disponíveis em: https://coinmarketcap.com/api/\n",
    "\n",
    "Deveremos extrair os seguintes dados:\n",
    "\n",
    "- Nome da moeda\n",
    "- Preço atual CONVERTIDO EM REAIS\n",
    "- O valor de mercado total\n",
    "- O valor atual em circulação\n",
    "- Percentual de mudança nas últimas 24 horas\n",
    "- Não precisaremos limitar a quantidade de moedas para esse exercício\n",
    "\n",
    "*Tempo: 10 minutos*"
   ]
  },
  {
   "cell_type": "code",
   "execution_count": null,
   "metadata": {
    "slideshow": {
     "slide_type": "subslide"
    }
   },
   "outputs": [],
   "source": [
    "import requests\n",
    "\n",
    "api = requests.get('API')\n",
    "\n",
    "json = api.json()\n",
    "\n",
    "# TODO - Abrir arquivo \n",
    "\n",
    "# TODO - Escrever em padrão CSV\n",
    "\n",
    "# TODO - Ler novamento o arquivo salvo e imprimir"
   ]
  },
  {
   "cell_type": "code",
   "execution_count": null,
   "metadata": {
    "slideshow": {
     "slide_type": "subslide"
    }
   },
   "outputs": [],
   "source": [
    "import requests\n",
    "\n",
    "api = requests.get('https://api.coinmarketcap.com/v1/ticker/?convert=BRL')\n",
    "\n",
    "json = api.json()\n",
    "\n",
    "# Abrir arquivo \n",
    "with open('lista_de_usuarios.csv', 'w', encoding='utf-8') as f:\n",
    "    for moeda in json:\n",
    "        nome = moeda['name']\n",
    "        preco = moeda['price_brl']\n",
    "        valor_mercado = moeda['market_cap_brl']\n",
    "        em_circulacao = moeda['available_supply']\n",
    "        percentual_dia = moeda['percent_change_24h']\n",
    "        \n",
    "        # Escrever em padrão CSV\n",
    "        f.write('{0};{1};{2};{3};{4}\\n'.format(nome, preco, valor_mercado, em_circulacao, percentual_dia))\n",
    "\n",
    "        \n",
    "# Ler novamento o arquivo salvo e imprimir\n",
    "with open('lista_de_usuarios.csv', 'r') as r:\n",
    "    for line in r:\n",
    "        print(line)"
   ]
  },
  {
   "cell_type": "markdown",
   "metadata": {
    "slideshow": {
     "slide_type": "slide"
    }
   },
   "source": [
    "# Nós temos os dados! E agora?\n",
    "\n",
    "<center>\n",
    "<img src=\"http://www.comregras.com/wp-content/uploads/2018/07/e-agora.jpg\" alt=\"drawing\" width=\"800px\"></center>\n"
   ]
  },
  {
   "cell_type": "markdown",
   "metadata": {
    "slideshow": {
     "slide_type": "slide"
    }
   },
   "source": [
    "# Recapitulando...\n",
    "\n",
    "- Aula 7 - Análise de Dados Estruturados\n",
    "- Aula 9 - Visualização de dados para tomada de decisão\n",
    "\n",
    "<center>\n",
    "<img src=\"https://camo.githubusercontent.com/12c1fa3547b626782c83013c48c6695b2660b795/68747470733a2f2f6d656469612e67697068792e636f6d2f6d656469612f48445233316a7351555071516f2f67697068792e676966\" alt=\"drawing\" width=\"500px\"></center>"
   ]
  },
  {
   "cell_type": "markdown",
   "metadata": {
    "slideshow": {
     "slide_type": "slide"
    }
   },
   "source": [
    "# Criando um Pandas Dataframe"
   ]
  },
  {
   "cell_type": "code",
   "execution_count": 1,
   "metadata": {
    "slideshow": {
     "slide_type": "subslide"
    }
   },
   "outputs": [
    {
     "data": {
      "text/html": [
       "<div>\n",
       "<style scoped>\n",
       "    .dataframe tbody tr th:only-of-type {\n",
       "        vertical-align: middle;\n",
       "    }\n",
       "\n",
       "    .dataframe tbody tr th {\n",
       "        vertical-align: top;\n",
       "    }\n",
       "\n",
       "    .dataframe thead th {\n",
       "        text-align: right;\n",
       "    }\n",
       "</style>\n",
       "<table border=\"1\" class=\"dataframe\">\n",
       "  <thead>\n",
       "    <tr style=\"text-align: right;\">\n",
       "      <th></th>\n",
       "      <th>24h_volume_brl</th>\n",
       "      <th>24h_volume_usd</th>\n",
       "      <th>available_supply</th>\n",
       "      <th>id</th>\n",
       "      <th>last_updated</th>\n",
       "      <th>market_cap_brl</th>\n",
       "      <th>market_cap_usd</th>\n",
       "      <th>max_supply</th>\n",
       "      <th>name</th>\n",
       "      <th>percent_change_1h</th>\n",
       "      <th>percent_change_24h</th>\n",
       "      <th>percent_change_7d</th>\n",
       "      <th>price_brl</th>\n",
       "      <th>price_btc</th>\n",
       "      <th>price_usd</th>\n",
       "      <th>rank</th>\n",
       "      <th>symbol</th>\n",
       "      <th>total_supply</th>\n",
       "    </tr>\n",
       "  </thead>\n",
       "  <tbody>\n",
       "    <tr>\n",
       "      <th>0</th>\n",
       "      <td>16895032932.4</td>\n",
       "      <td>4467960181.8</td>\n",
       "      <td>17199187.0</td>\n",
       "      <td>bitcoin</td>\n",
       "      <td>1533818091</td>\n",
       "      <td>409269902375</td>\n",
       "      <td>108233090443</td>\n",
       "      <td>21000000.0</td>\n",
       "      <td>Bitcoin</td>\n",
       "      <td>-1.03</td>\n",
       "      <td>-3.57</td>\n",
       "      <td>-17.23</td>\n",
       "      <td>23795.8865367</td>\n",
       "      <td>1.0</td>\n",
       "      <td>6292.91898758</td>\n",
       "      <td>1</td>\n",
       "      <td>BTC</td>\n",
       "      <td>17199187.0</td>\n",
       "    </tr>\n",
       "    <tr>\n",
       "      <th>1</th>\n",
       "      <td>6736176166.93</td>\n",
       "      <td>1781409187.65</td>\n",
       "      <td>101217325.0</td>\n",
       "      <td>ethereum</td>\n",
       "      <td>1533818198</td>\n",
       "      <td>136593496236</td>\n",
       "      <td>36122705692.0</td>\n",
       "      <td>None</td>\n",
       "      <td>Ethereum</td>\n",
       "      <td>-1.07</td>\n",
       "      <td>-3.23</td>\n",
       "      <td>-14.24</td>\n",
       "      <td>1349.50707079</td>\n",
       "      <td>0.05695513</td>\n",
       "      <td>356.882634171</td>\n",
       "      <td>2</td>\n",
       "      <td>ETH</td>\n",
       "      <td>101217325.0</td>\n",
       "    </tr>\n",
       "    <tr>\n",
       "      <th>2</th>\n",
       "      <td>1324133353.56</td>\n",
       "      <td>350172451.438</td>\n",
       "      <td>39299874590.0</td>\n",
       "      <td>ripple</td>\n",
       "      <td>1533818305</td>\n",
       "      <td>50127920466.0</td>\n",
       "      <td>13256532469.0</td>\n",
       "      <td>100000000000</td>\n",
       "      <td>XRP</td>\n",
       "      <td>-1.69</td>\n",
       "      <td>-4.4</td>\n",
       "      <td>-22.69</td>\n",
       "      <td>1.275523675</td>\n",
       "      <td>0.00005383</td>\n",
       "      <td>0.3373174242</td>\n",
       "      <td>3</td>\n",
       "      <td>XRP</td>\n",
       "      <td>99991891501.0</td>\n",
       "    </tr>\n",
       "    <tr>\n",
       "      <th>3</th>\n",
       "      <td>1507677234.35</td>\n",
       "      <td>398711377.304</td>\n",
       "      <td>17283388.0</td>\n",
       "      <td>bitcoin-cash</td>\n",
       "      <td>1533818316</td>\n",
       "      <td>38382179820.0</td>\n",
       "      <td>10150323578.0</td>\n",
       "      <td>21000000.0</td>\n",
       "      <td>Bitcoin Cash</td>\n",
       "      <td>-1.47</td>\n",
       "      <td>-5.05</td>\n",
       "      <td>-21.73</td>\n",
       "      <td>2220.755614</td>\n",
       "      <td>0.09372565</td>\n",
       "      <td>587.287855344</td>\n",
       "      <td>4</td>\n",
       "      <td>BCH</td>\n",
       "      <td>17283388.0</td>\n",
       "    </tr>\n",
       "    <tr>\n",
       "      <th>4</th>\n",
       "      <td>2882353796.95</td>\n",
       "      <td>762250185.963</td>\n",
       "      <td>906245118.0</td>\n",
       "      <td>eos</td>\n",
       "      <td>1533818315</td>\n",
       "      <td>18960844443.0</td>\n",
       "      <td>5014272439.0</td>\n",
       "      <td>None</td>\n",
       "      <td>EOS</td>\n",
       "      <td>-1.11</td>\n",
       "      <td>-7.43</td>\n",
       "      <td>-21.84</td>\n",
       "      <td>20.9224238281</td>\n",
       "      <td>0.00088302</td>\n",
       "      <td>5.5330200861</td>\n",
       "      <td>5</td>\n",
       "      <td>EOS</td>\n",
       "      <td>1006245120.0</td>\n",
       "    </tr>\n",
       "  </tbody>\n",
       "</table>\n",
       "</div>"
      ],
      "text/plain": [
       "  24h_volume_brl 24h_volume_usd available_supply            id last_updated  \\\n",
       "0  16895032932.4   4467960181.8       17199187.0       bitcoin   1533818091   \n",
       "1  6736176166.93  1781409187.65      101217325.0      ethereum   1533818198   \n",
       "2  1324133353.56  350172451.438    39299874590.0        ripple   1533818305   \n",
       "3  1507677234.35  398711377.304       17283388.0  bitcoin-cash   1533818316   \n",
       "4  2882353796.95  762250185.963      906245118.0           eos   1533818315   \n",
       "\n",
       "  market_cap_brl market_cap_usd    max_supply          name percent_change_1h  \\\n",
       "0   409269902375   108233090443    21000000.0       Bitcoin             -1.03   \n",
       "1   136593496236  36122705692.0          None      Ethereum             -1.07   \n",
       "2  50127920466.0  13256532469.0  100000000000           XRP             -1.69   \n",
       "3  38382179820.0  10150323578.0    21000000.0  Bitcoin Cash             -1.47   \n",
       "4  18960844443.0   5014272439.0          None           EOS             -1.11   \n",
       "\n",
       "  percent_change_24h percent_change_7d      price_brl   price_btc  \\\n",
       "0              -3.57            -17.23  23795.8865367         1.0   \n",
       "1              -3.23            -14.24  1349.50707079  0.05695513   \n",
       "2               -4.4            -22.69    1.275523675  0.00005383   \n",
       "3              -5.05            -21.73    2220.755614  0.09372565   \n",
       "4              -7.43            -21.84  20.9224238281  0.00088302   \n",
       "\n",
       "       price_usd rank symbol   total_supply  \n",
       "0  6292.91898758    1    BTC     17199187.0  \n",
       "1  356.882634171    2    ETH    101217325.0  \n",
       "2   0.3373174242    3    XRP  99991891501.0  \n",
       "3  587.287855344    4    BCH     17283388.0  \n",
       "4   5.5330200861    5    EOS   1006245120.0  "
      ]
     },
     "execution_count": 1,
     "metadata": {},
     "output_type": "execute_result"
    }
   ],
   "source": [
    "%matplotlib inline\n",
    "\n",
    "import pandas as pd\n",
    "import requests\n",
    "\n",
    "# Obtendo os dados a partir da API\n",
    "api = requests.get('https://api.coinmarketcap.com/v1/ticker/?convert=BRL')\n",
    "json = api.json()\n",
    "\n",
    "# Criando um pandas Dataframe\n",
    "df = pd.DataFrame.from_records(json)\n",
    "df.head()"
   ]
  },
  {
   "cell_type": "markdown",
   "metadata": {
    "slideshow": {
     "slide_type": "slide"
    }
   },
   "source": [
    "# Descrição do Dataframe"
   ]
  },
  {
   "cell_type": "code",
   "execution_count": 3,
   "metadata": {
    "slideshow": {
     "slide_type": "-"
    }
   },
   "outputs": [
    {
     "name": "stdout",
     "output_type": "stream",
     "text": [
      "<class 'pandas.core.frame.DataFrame'>\n",
      "RangeIndex: 100 entries, 0 to 99\n",
      "Data columns (total 18 columns):\n",
      "24h_volume_brl        100 non-null object\n",
      "24h_volume_usd        100 non-null object\n",
      "available_supply      100 non-null object\n",
      "id                    100 non-null object\n",
      "last_updated          100 non-null object\n",
      "market_cap_brl        100 non-null object\n",
      "market_cap_usd        100 non-null object\n",
      "max_supply            33 non-null object\n",
      "name                  100 non-null object\n",
      "percent_change_1h     100 non-null object\n",
      "percent_change_24h    100 non-null object\n",
      "percent_change_7d     99 non-null object\n",
      "price_brl             100 non-null object\n",
      "price_btc             100 non-null object\n",
      "price_usd             100 non-null object\n",
      "rank                  100 non-null object\n",
      "symbol                100 non-null object\n",
      "total_supply          100 non-null object\n",
      "dtypes: object(18)\n",
      "memory usage: 14.1+ KB\n"
     ]
    }
   ],
   "source": [
    "df.info()"
   ]
  },
  {
   "cell_type": "markdown",
   "metadata": {
    "slideshow": {
     "slide_type": "slide"
    }
   },
   "source": [
    "# Quais os tipos dos dados?\n",
    "\n"
   ]
  },
  {
   "cell_type": "code",
   "execution_count": 2,
   "metadata": {
    "slideshow": {
     "slide_type": "-"
    }
   },
   "outputs": [
    {
     "data": {
      "text/plain": [
       "24h_volume_brl        object\n",
       "24h_volume_usd        object\n",
       "available_supply      object\n",
       "id                    object\n",
       "last_updated          object\n",
       "market_cap_brl        object\n",
       "market_cap_usd        object\n",
       "max_supply            object\n",
       "name                  object\n",
       "percent_change_1h     object\n",
       "percent_change_24h    object\n",
       "percent_change_7d     object\n",
       "price_brl             object\n",
       "price_btc             object\n",
       "price_usd             object\n",
       "rank                  object\n",
       "symbol                object\n",
       "total_supply          object\n",
       "dtype: object"
      ]
     },
     "execution_count": 2,
     "metadata": {},
     "output_type": "execute_result"
    }
   ],
   "source": [
    "df.dtypes"
   ]
  },
  {
   "cell_type": "markdown",
   "metadata": {
    "slideshow": {
     "slide_type": "slide"
    }
   },
   "source": [
    "# Exercício\n",
    "\n",
    "Objetivos: \n",
    "- Vamos alterar o tipos das colunas para float: 'percent_change_1h', 'percent_change_24h', 'percent_change_7d' ([Função *astype*](https://pandas.pydata.org/pandas-docs/stable/generated/pandas.DataFrame.astype.html))\n",
    "- Visualizar rapidamente com boxplot os dados das colunas acima [Plots utilizando pandas](https://pandas.pydata.org/pandas-docs/stable/generated/pandas.DataFrame.plot.html)\n",
    "- O que podemos observar sobre os dados de porcentagem de variação por hora, dia e semana de cada criptomoeda?\n",
    "\n",
    "*Tempo: 20 minutos*"
   ]
  },
  {
   "cell_type": "code",
   "execution_count": null,
   "metadata": {
    "slideshow": {
     "slide_type": "subslide"
    }
   },
   "outputs": [],
   "source": [
    "import pandas as pd\n",
    "import requests\n",
    "\n",
    "# Obtendo os dados a partir da API\n",
    "api = requests.get('https://api.coinmarketcap.com/v1/ticker/?convert=BRL')\n",
    "json = api.json()\n",
    "\n",
    "# Criando um pandas Dataframe\n",
    "\n",
    "\n",
    "# Convertendo os tipos para float\n",
    "\n",
    "\n",
    "# Plots - Experimente diversos plots e interprete os resultados\n",
    "\n"
   ]
  },
  {
   "cell_type": "code",
   "execution_count": 2,
   "metadata": {
    "slideshow": {
     "slide_type": "subslide"
    }
   },
   "outputs": [
    {
     "name": "stdout",
     "output_type": "stream",
     "text": [
      "  24h_volume_brl 24h_volume_usd available_supply            id last_updated  \\\n",
      "0  16086354404.7  4233924130.23       17199700.0       bitcoin   1533844164   \n",
      "1  6109975062.57  1608143784.58      101223262.0      ethereum   1533844182   \n",
      "2  1269113008.23  334030200.649    39299874590.0        ripple   1533844151   \n",
      "3  1381011141.93  363481759.187       17283875.0  bitcoin-cash   1533844174   \n",
      "4   2575647201.6  677909647.112      906245118.0           eos   1533844174   \n",
      "\n",
      "  market_cap_brl market_cap_usd    max_supply          name percent_change_1h  \\\n",
      "0   424554906387   111742736579    21000000.0       Bitcoin              0.01   \n",
      "1   140081183629  36869329659.0          None      Ethereum             -0.05   \n",
      "2  51662228692.0  13597484624.0  100000000000           XRP              0.46   \n",
      "3  39871161775.0  10494079000.0    21000000.0  Bitcoin Cash              0.07   \n",
      "4  20094461544.0   5288856846.0          None           EOS             -0.26   \n",
      "\n",
      "  percent_change_24h percent_change_7d      price_brl   price_btc  \\\n",
      "0               2.59            -13.91  24683.8553223         1.0   \n",
      "1               0.93            -11.51  1383.88331926  0.05623749   \n",
      "2               3.11            -19.99   1.3145647214  0.00005342   \n",
      "3               2.78            -17.43  2306.84159514  0.09374417   \n",
      "4               3.37            -17.42  22.1733184033  0.00090107   \n",
      "\n",
      "       price_usd rank symbol   total_supply  \n",
      "0  6496.78404733    1    BTC     17199700.0  \n",
      "1  364.237715485    2    ETH    101223262.0  \n",
      "2   0.3459930793    3    XRP  99991891501.0  \n",
      "3  607.160084166    4    BCH     17283875.0  \n",
      "4    5.836011409    5    EOS   1006245120.0  \n"
     ]
    }
   ],
   "source": [
    "import pandas as pd\n",
    "import requests\n",
    "\n",
    "# Obtendo os dados a partir da API\n",
    "api = requests.get('https://api.coinmarketcap.com/v1/ticker/?convert=BRL')\n",
    "json = api.json()\n",
    "\n",
    "# Criando um pandas Dataframe\n",
    "df = pd.DataFrame.from_records(json)\n",
    "print(df.head())\n",
    "\n",
    "# Convertendo os tipos para float\n",
    "\n",
    "\n",
    "# Plots - Experimente diversos plots e interprete os resultados\n",
    "\n"
   ]
  },
  {
   "cell_type": "code",
   "execution_count": 6,
   "metadata": {
    "slideshow": {
     "slide_type": "subslide"
    }
   },
   "outputs": [
    {
     "name": "stdout",
     "output_type": "stream",
     "text": [
      "24h_volume_brl         object\n",
      "24h_volume_usd         object\n",
      "available_supply       object\n",
      "id                     object\n",
      "last_updated           object\n",
      "market_cap_brl         object\n",
      "market_cap_usd         object\n",
      "max_supply             object\n",
      "name                   object\n",
      "percent_change_1h     float64\n",
      "percent_change_24h    float64\n",
      "percent_change_7d     float64\n",
      "price_brl              object\n",
      "price_btc              object\n",
      "price_usd              object\n",
      "rank                   object\n",
      "symbol                 object\n",
      "total_supply           object\n",
      "dtype: object\n"
     ]
    }
   ],
   "source": [
    "import pandas as pd\n",
    "import requests\n",
    "\n",
    "# Obtendo os dados a partir da API\n",
    "api = requests.get('https://api.coinmarketcap.com/v1/ticker/?convert=BRL')\n",
    "json = api.json()\n",
    "\n",
    "# Criando um pandas Dataframe\n",
    "df = pd.DataFrame.from_records(json)\n",
    "\n",
    "# Convertendo os tipos para float\n",
    "cols = ['percent_change_1h', 'percent_change_24h', 'percent_change_7d']\n",
    "df[cols] = df[cols].astype(float)\n",
    "print(df.dtypes)\n",
    "\n",
    "# Plots"
   ]
  },
  {
   "cell_type": "code",
   "execution_count": 7,
   "metadata": {
    "scrolled": false,
    "slideshow": {
     "slide_type": "subslide"
    }
   },
   "outputs": [
    {
     "data": {
      "text/plain": [
       "<matplotlib.axes._subplots.AxesSubplot at 0x7fbbf6861588>"
      ]
     },
     "execution_count": 7,
     "metadata": {},
     "output_type": "execute_result"
    },
    {
     "data": {
      "image/png": "[encoded data removed]",
      "text/plain": [
       "<Figure size 432x288 with 1 Axes>"
      ]
     },
     "metadata": {},
     "output_type": "display_data"
    }
   ],
   "source": [
    "import pandas as pd\n",
    "import requests\n",
    "\n",
    "# Obtendo os dados a partir da API\n",
    "api = requests.get('https://api.coinmarketcap.com/v1/ticker/?convert=BRL')\n",
    "json = api.json()\n",
    "\n",
    "# Criando um pandas Dataframe\n",
    "df = pd.DataFrame.from_records(json)\n",
    "\n",
    "# Convertendo os tipos para float\n",
    "cols = ['percent_change_1h', 'percent_change_24h', 'percent_change_7d']\n",
    "df[cols] = df[cols].astype(float)\n",
    "\n",
    "# Plots\n",
    "df.percent_change_1h.plot(kind='box')"
   ]
  },
  {
   "cell_type": "code",
   "execution_count": 9,
   "metadata": {
    "slideshow": {
     "slide_type": "subslide"
    }
   },
   "outputs": [
    {
     "data": {
      "text/plain": [
       "<matplotlib.axes._subplots.AxesSubplot at 0x7fbbf67a20b8>"
      ]
     },
     "execution_count": 9,
     "metadata": {},
     "output_type": "execute_result"
    },
    {
     "data": {
      "image/png": "[encoded data removed]",
      "text/plain": [
       "<Figure size 432x288 with 1 Axes>"
      ]
     },
     "metadata": {},
     "output_type": "display_data"
    }
   ],
   "source": [
    "import pandas as pd\n",
    "import requests\n",
    "\n",
    "# Obtendo os dados a partir da API\n",
    "api = requests.get('https://api.coinmarketcap.com/v1/ticker/?convert=BRL')\n",
    "json = api.json()\n",
    "\n",
    "# Criando um pandas Dataframe\n",
    "df = pd.DataFrame.from_records(json)\n",
    "\n",
    "# Convertendo os tipos para float\n",
    "cols = ['percent_change_1h', 'percent_change_24h', 'percent_change_7d']\n",
    "df[cols] = df[cols].astype(float)\n",
    "\n",
    "# Plots\n",
    "df[['percent_change_1h', 'percent_change_24h', 'percent_change_7d']].plot(kind='box')"
   ]
  },
  {
   "cell_type": "code",
   "execution_count": 15,
   "metadata": {
    "slideshow": {
     "slide_type": "subslide"
    }
   },
   "outputs": [
    {
     "data": {
      "text/plain": [
       "<matplotlib.axes._subplots.AxesSubplot at 0x7fbbf633ebe0>"
      ]
     },
     "execution_count": 15,
     "metadata": {},
     "output_type": "execute_result"
    },
    {
     "data": {
      "image/png": "[encoded data removed]",
      "text/plain": [
       "<Figure size 432x288 with 1 Axes>"
      ]
     },
     "metadata": {},
     "output_type": "display_data"
    }
   ],
   "source": [
    "import pandas as pd\n",
    "import requests\n",
    "\n",
    "# Obtendo os dados a partir da API\n",
    "api = requests.get('https://api.coinmarketcap.com/v1/ticker/?convert=BRL')\n",
    "json = api.json()\n",
    "\n",
    "# Criando um pandas Dataframe\n",
    "df = pd.DataFrame.from_records(json)\n",
    "\n",
    "# Convertendo os tipos para float\n",
    "cols = ['percent_change_1h', 'percent_change_24h', 'percent_change_7d']\n",
    "df[cols] = df[cols].astype(float)\n",
    "\n",
    "# Plots\n",
    "df[['percent_change_1h']].plot(kind='hist')"
   ]
  },
  {
   "cell_type": "markdown",
   "metadata": {
    "slideshow": {
     "slide_type": "slide"
    }
   },
   "source": [
    "# Exercício\n",
    "\n",
    "Objetivos:\n",
    "\n",
    "- Plotar um gráfico de barras com os preço em bitcoin das 20 primeiras criptomoedas do dataset utilizando o pacote seaborn\n",
    "- Plotar o gráfico horizontal\n",
    "\n",
    "*Tempo: 10 minutos*"
   ]
  },
  {
   "cell_type": "code",
   "execution_count": null,
   "metadata": {},
   "outputs": [],
   "source": [
    "import pandas as pd\n",
    "import requests\n",
    "import seaborn as sns\n",
    "\n",
    "# Obtendo os dados a partir da API\n",
    "api = requests.get('https://api.coinmarketcap.com/v1/ticker/?convert=BRL')\n",
    "json = api.json()\n",
    "\n",
    "# Criando um pandas Dataframe\n",
    "df = pd.DataFrame.from_records(json)\n",
    "\n",
    "# Convertendo para o tipo float\n",
    "\n",
    "# Plot horizontal\n"
   ]
  },
  {
   "cell_type": "code",
   "execution_count": 7,
   "metadata": {
    "scrolled": false,
    "slideshow": {
     "slide_type": "subslide"
    }
   },
   "outputs": [
    {
     "data": {
      "image/png": "[encoded data removed]",
      "text/plain": [
       "<Figure size 432x288 with 1 Axes>"
      ]
     },
     "metadata": {},
     "output_type": "display_data"
    }
   ],
   "source": [
    "import pandas as pd\n",
    "import requests\n",
    "import seaborn as sns\n",
    "\n",
    "# Obtendo os dados a partir da API\n",
    "api = requests.get('https://api.coinmarketcap.com/v1/ticker/?convert=BRL')\n",
    "json = api.json()\n",
    "\n",
    "# Criando um pandas Dataframe\n",
    "df = pd.DataFrame.from_records(json)\n",
    "\n",
    "# Convertendo para o tipo float\n",
    "df['price_btc'] = df['price_btc'].astype(float)\n",
    "\n",
    "# plot horizontal\n",
    "ay = sns.barplot(x=\"price_btc\", y=\"id\", data=df[:10])"
   ]
  },
  {
   "cell_type": "code",
   "execution_count": 16,
   "metadata": {
    "slideshow": {
     "slide_type": "subslide"
    }
   },
   "outputs": [
    {
     "data": {
      "image/png": "[encoded data removed]",
      "text/plain": [
       "<Figure size 432x288 with 1 Axes>"
      ]
     },
     "metadata": {},
     "output_type": "display_data"
    }
   ],
   "source": [
    "import pandas as pd\n",
    "import requests\n",
    "import seaborn as sns\n",
    "\n",
    "# Obtendo os dados a partir da API\n",
    "api = requests.get('https://api.coinmarketcap.com/v1/ticker/?convert=BRL')\n",
    "json = api.json()\n",
    "\n",
    "# Criando um pandas Dataframe\n",
    "df = pd.DataFrame.from_records(json)\n",
    "\n",
    "# Convertendo para o tipo float\n",
    "df['price_btc'] = df['price_btc'].astype(float)\n",
    "\n",
    "# plot horizontal\n",
    "ay = sns.barplot(x='id', y=\"price_btc\", data=df[:10])"
   ]
  },
  {
   "cell_type": "markdown",
   "metadata": {
    "slideshow": {
     "slide_type": "slide"
    }
   },
   "source": [
    "# Outras APIs para estudo\n",
    "\n",
    "- https://jobs.github.com/api\n",
    "- http://quotesondesign.com/wp-json/posts?filter[orderby]=rand&filter[posts_per_page]=25\n",
    "- https://carbon-intensity.github.io/api-definitions/\n",
    "- http://www.recipepuppy.com/about/api/\n",
    "- https://app.swaggerhub.com/apis/Bandsintown/PublicAPI/3.0.0"
   ]
  },
  {
   "cell_type": "markdown",
   "metadata": {
    "scrolled": true,
    "slideshow": {
     "slide_type": "slide"
    }
   },
   "source": [
    "# Dúvidas?\n",
    "\n",
    "<center>\n",
    "<img src=\"https://camo.githubusercontent.com/12c1fa3547b626782c83013c48c6695b2660b795/68747470733a2f2f6d656469612e67697068792e636f6d2f6d656469612f48445233316a7351555071516f2f67697068792e676966\" alt=\"drawing\" width=\"500px\"></center>"
   ]
  },
  {
   "cell_type": "code",
   "execution_count": null,
   "metadata": {},
   "outputs": [],
   "source": []
  }
 ],
 "metadata": {
  "celltoolbar": "Slideshow",
  "kernelspec": {
   "display_name": "Python 3",
   "language": "python",
   "name": "python3"
  },
  "language_info": {
   "codemirror_mode": {
    "name": "ipython",
    "version": 3
   },
   "file_extension": ".py",
   "mimetype": "text/x-python",
   "name": "python",
   "nbconvert_exporter": "python",
   "pygments_lexer": "ipython3",
   "version": "3.6.5"
  }
 },
 "nbformat": 4,
 "nbformat_minor": 2
}
