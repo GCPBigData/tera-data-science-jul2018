{
 "cells": [
  {
   "cell_type": "markdown",
   "metadata": {},
   "source": [
    "# Dados de Galton: estudo sobre Alturas "
   ]
  },
  {
   "cell_type": "code",
   "execution_count": 59,
   "metadata": {
    "collapsed": true
   },
   "outputs": [],
   "source": [
    "import os\n",
    "import pandas as pd\n",
    "import numpy as np\n",
    "from sklearn import linear_model\n",
    "import matplotlib.pyplot as plt\n",
    "import seaborn as sns\n",
    "%matplotlib inline "
   ]
  },
  {
   "cell_type": "markdown",
   "metadata": {},
   "source": [
    "importando dados do Galton"
   ]
  },
  {
   "cell_type": "code",
   "execution_count": 43,
   "metadata": {
    "collapsed": true
   },
   "outputs": [],
   "source": [
    "Galton = pd.read_csv('C:/Users/crrodr/Documents/1. Conhecimento/Tera - Data Science/TURMA_4_201808/Regressao_Linear/Exemplo_Galton_simples/Galton.csv')"
   ]
  },
  {
   "cell_type": "code",
   "execution_count": 44,
   "metadata": {
    "collapsed": true
   },
   "outputs": [],
   "source": [
    "#Cria uma nova variável que é a média das alturas dos pais\n",
    "Galton[\"Mean_Parents\"]= (Galton['Father'] + Galton['Mother'])/2\n",
    "Galton[\"target\"]= Galton['Height']"
   ]
  },
  {
   "cell_type": "code",
   "execution_count": 45,
   "metadata": {},
   "outputs": [
    {
     "data": {
      "text/html": [
       "<div>\n",
       "<style>\n",
       "    .dataframe thead tr:only-child th {\n",
       "        text-align: right;\n",
       "    }\n",
       "\n",
       "    .dataframe thead th {\n",
       "        text-align: left;\n",
       "    }\n",
       "\n",
       "    .dataframe tbody tr th {\n",
       "        vertical-align: top;\n",
       "    }\n",
       "</style>\n",
       "<table border=\"1\" class=\"dataframe\">\n",
       "  <thead>\n",
       "    <tr style=\"text-align: right;\">\n",
       "      <th></th>\n",
       "      <th>Family</th>\n",
       "      <th>Father</th>\n",
       "      <th>Mother</th>\n",
       "      <th>Gender</th>\n",
       "      <th>Height</th>\n",
       "      <th>Kids</th>\n",
       "      <th>Mean_Parents</th>\n",
       "      <th>target</th>\n",
       "    </tr>\n",
       "  </thead>\n",
       "  <tbody>\n",
       "    <tr>\n",
       "      <th>0</th>\n",
       "      <td>1</td>\n",
       "      <td>1.9939</td>\n",
       "      <td>1.7018</td>\n",
       "      <td>M</td>\n",
       "      <td>1.85928</td>\n",
       "      <td>4</td>\n",
       "      <td>1.84785</td>\n",
       "      <td>1.85928</td>\n",
       "    </tr>\n",
       "    <tr>\n",
       "      <th>1</th>\n",
       "      <td>1</td>\n",
       "      <td>1.9939</td>\n",
       "      <td>1.7018</td>\n",
       "      <td>F</td>\n",
       "      <td>1.75768</td>\n",
       "      <td>4</td>\n",
       "      <td>1.84785</td>\n",
       "      <td>1.75768</td>\n",
       "    </tr>\n",
       "    <tr>\n",
       "      <th>2</th>\n",
       "      <td>1</td>\n",
       "      <td>1.9939</td>\n",
       "      <td>1.7018</td>\n",
       "      <td>F</td>\n",
       "      <td>1.75260</td>\n",
       "      <td>4</td>\n",
       "      <td>1.84785</td>\n",
       "      <td>1.75260</td>\n",
       "    </tr>\n",
       "    <tr>\n",
       "      <th>3</th>\n",
       "      <td>1</td>\n",
       "      <td>1.9939</td>\n",
       "      <td>1.7018</td>\n",
       "      <td>F</td>\n",
       "      <td>1.75260</td>\n",
       "      <td>4</td>\n",
       "      <td>1.84785</td>\n",
       "      <td>1.75260</td>\n",
       "    </tr>\n",
       "    <tr>\n",
       "      <th>4</th>\n",
       "      <td>2</td>\n",
       "      <td>1.9177</td>\n",
       "      <td>1.6891</td>\n",
       "      <td>M</td>\n",
       "      <td>1.86690</td>\n",
       "      <td>4</td>\n",
       "      <td>1.80340</td>\n",
       "      <td>1.86690</td>\n",
       "    </tr>\n",
       "    <tr>\n",
       "      <th>5</th>\n",
       "      <td>2</td>\n",
       "      <td>1.9177</td>\n",
       "      <td>1.6891</td>\n",
       "      <td>M</td>\n",
       "      <td>1.84150</td>\n",
       "      <td>4</td>\n",
       "      <td>1.80340</td>\n",
       "      <td>1.84150</td>\n",
       "    </tr>\n",
       "    <tr>\n",
       "      <th>6</th>\n",
       "      <td>2</td>\n",
       "      <td>1.9177</td>\n",
       "      <td>1.6891</td>\n",
       "      <td>F</td>\n",
       "      <td>1.66370</td>\n",
       "      <td>4</td>\n",
       "      <td>1.80340</td>\n",
       "      <td>1.66370</td>\n",
       "    </tr>\n",
       "    <tr>\n",
       "      <th>7</th>\n",
       "      <td>2</td>\n",
       "      <td>1.9177</td>\n",
       "      <td>1.6891</td>\n",
       "      <td>F</td>\n",
       "      <td>1.66370</td>\n",
       "      <td>4</td>\n",
       "      <td>1.80340</td>\n",
       "      <td>1.66370</td>\n",
       "    </tr>\n",
       "    <tr>\n",
       "      <th>8</th>\n",
       "      <td>3</td>\n",
       "      <td>1.9050</td>\n",
       "      <td>1.6256</td>\n",
       "      <td>M</td>\n",
       "      <td>1.80340</td>\n",
       "      <td>2</td>\n",
       "      <td>1.76530</td>\n",
       "      <td>1.80340</td>\n",
       "    </tr>\n",
       "    <tr>\n",
       "      <th>9</th>\n",
       "      <td>3</td>\n",
       "      <td>1.9050</td>\n",
       "      <td>1.6256</td>\n",
       "      <td>F</td>\n",
       "      <td>1.72720</td>\n",
       "      <td>2</td>\n",
       "      <td>1.76530</td>\n",
       "      <td>1.72720</td>\n",
       "    </tr>\n",
       "  </tbody>\n",
       "</table>\n",
       "</div>"
      ],
      "text/plain": [
       "   Family  Father  Mother Gender   Height  Kids  Mean_Parents   target\n",
       "0       1  1.9939  1.7018      M  1.85928     4       1.84785  1.85928\n",
       "1       1  1.9939  1.7018      F  1.75768     4       1.84785  1.75768\n",
       "2       1  1.9939  1.7018      F  1.75260     4       1.84785  1.75260\n",
       "3       1  1.9939  1.7018      F  1.75260     4       1.84785  1.75260\n",
       "4       2  1.9177  1.6891      M  1.86690     4       1.80340  1.86690\n",
       "5       2  1.9177  1.6891      M  1.84150     4       1.80340  1.84150\n",
       "6       2  1.9177  1.6891      F  1.66370     4       1.80340  1.66370\n",
       "7       2  1.9177  1.6891      F  1.66370     4       1.80340  1.66370\n",
       "8       3  1.9050  1.6256      M  1.80340     2       1.76530  1.80340\n",
       "9       3  1.9050  1.6256      F  1.72720     2       1.76530  1.72720"
      ]
     },
     "execution_count": 45,
     "metadata": {},
     "output_type": "execute_result"
    }
   ],
   "source": [
    "Galton.head(10)  \n",
    "## Variáveis disponíveis: \n",
    "## Family: Família de origem\n",
    "## Father: Altura do Pai\n",
    "## Mother: Altura da Mãe\n",
    "## Gender: Sexo do Filho\n",
    "## Height=target: Altura do Filho\n",
    "## Kids: Quantidade de Filhos\n",
    "## Mean_Parents: Média da Altura do Pai e da Mãe"
   ]
  },
  {
   "cell_type": "markdown",
   "metadata": {},
   "source": [
    "## Parte_1: Avaliando a Correlação entre as variáveis \n",
    "Altura Pai, Altura Mãe e Média da altura dos Pais com a Altura Filho "
   ]
  },
  {
   "cell_type": "markdown",
   "metadata": {},
   "source": [
    "### Gráficos e Coeficiente de Correlação"
   ]
  },
  {
   "cell_type": "code",
   "execution_count": 46,
   "metadata": {},
   "outputs": [
    {
     "data": {
      "image/png": "[encoded data removed]",
      "text/plain": [
       "<matplotlib.figure.Figure at 0x1d7fc409438>"
      ]
     },
     "metadata": {},
     "output_type": "display_data"
    },
    {
     "data": {
      "text/plain": [
       "0.27680081103482701"
      ]
     },
     "execution_count": 46,
     "metadata": {},
     "output_type": "execute_result"
    }
   ],
   "source": [
    "X = Galton['Father']\n",
    "Y = Galton['Height']\n",
    "plt.scatter(X,Y)\n",
    "plt.xlabel(\"Altura Pai\")\n",
    "plt.ylabel(\"Altura Filho\")\n",
    "plt.show() \n",
    "\n",
    "# Correlação da variável target (Altura_Filhos) com a variável explicativa Altura Pai\n",
    "Galton['Father'].corr(Galton['Height'])"
   ]
  },
  {
   "cell_type": "code",
   "execution_count": 47,
   "metadata": {},
   "outputs": [
    {
     "data": {
      "image/png": "[encoded data removed]",
      "text/plain": [
       "<matplotlib.figure.Figure at 0x1d7fc4b8550>"
      ]
     },
     "metadata": {},
     "output_type": "display_data"
    },
    {
     "data": {
      "text/plain": [
       "0.20203872284119712"
      ]
     },
     "execution_count": 47,
     "metadata": {},
     "output_type": "execute_result"
    }
   ],
   "source": [
    "M = Galton['Mother']\n",
    "plt.scatter(M,Y)\n",
    "plt.xlabel(\"Altura Mãe\")\n",
    "plt.ylabel(\"Altura Filho\")\n",
    "plt.show() \n",
    "\n",
    "# Correlação da variável target (Altura_Filhos) com a variável explicativa Altura Mãe\n",
    "Galton['Mother'].corr(Galton['Height'])"
   ]
  },
  {
   "cell_type": "code",
   "execution_count": 48,
   "metadata": {},
   "outputs": [
    {
     "data": {
      "image/png": "[encoded data removed]",
      "text/plain": [
       "<matplotlib.figure.Figure at 0x1d7fc59e470>"
      ]
     },
     "metadata": {},
     "output_type": "display_data"
    },
    {
     "data": {
      "text/plain": [
       "0.32817910208512924"
      ]
     },
     "execution_count": 48,
     "metadata": {},
     "output_type": "execute_result"
    }
   ],
   "source": [
    "Z= Galton['Mean_Parents']\n",
    "plt.scatter(Z,Y)\n",
    "plt.xlabel(\"Media Pais\")\n",
    "plt.ylabel(\"Altura Filho\")\n",
    "plt.show() \n",
    "\n",
    "# Correlação da variável target (Altura_Filhos) com a variável explicativa Altura Média dos Pais\n",
    "Galton['Mean_Parents'].corr(Galton['Height'])"
   ]
  },
  {
   "cell_type": "markdown",
   "metadata": {},
   "source": [
    "## Parte_2: Ajustando um Modelo de regressão linear simples para determinar a relação entre a Altura do Pai e a Altura do Filho\n",
    "## Sklearn"
   ]
  },
  {
   "cell_type": "code",
   "execution_count": 49,
   "metadata": {},
   "outputs": [
    {
     "name": "stdout",
     "output_type": "stream",
     "text": [
      "beta1 [[ 0.40021354]]\n",
      "intercepto [ 0.99176443]\n"
     ]
    }
   ],
   "source": [
    "X=X.values.reshape(len(X),1)\n",
    "Y=Y.values.reshape(len(Y),1)\n",
    "# Create linear regression object\n",
    "regr = linear_model.LinearRegression()\n",
    " \n",
    "# Train the model using the training sets\n",
    "# Z_train: Média da Altura do Pai e da Mãe\n",
    "regr.fit(X, Y)\n",
    "Y_pred = regr.predict(X)\n",
    "\n",
    "beta1=regr.coef_\n",
    "intercepto=regr.intercept_\n",
    "\n",
    "print('beta1',beta1)\n",
    "print('intercepto',intercepto)\n"
   ]
  },
  {
   "cell_type": "code",
   "execution_count": 50,
   "metadata": {},
   "outputs": [
    {
     "name": "stdout",
     "output_type": "stream",
     "text": [
      "r2_train 0.0766186889895\n"
     ]
    }
   ],
   "source": [
    "#Calculando o R^2\n",
    "r2_train = regr.score(X,Y)\n",
    "print('r2_train',r2_train)"
   ]
  },
  {
   "cell_type": "markdown",
   "metadata": {},
   "source": [
    "## Parte_3: Ajustando um Modelo de regressão linear simples para determinar a relação entre a Altura do Pai e a Altura do Filho.\n",
    "## Statsmodel"
   ]
  },
  {
   "cell_type": "code",
   "execution_count": 51,
   "metadata": {},
   "outputs": [
    {
     "name": "stdout",
     "output_type": "stream",
     "text": [
      "                            OLS Regression Results                            \n",
      "==============================================================================\n",
      "Dep. Variable:                      y   R-squared:                       0.077\n",
      "Model:                            OLS   Adj. R-squared:                  0.076\n",
      "Method:                 Least Squares   F-statistic:                     73.68\n",
      "Date:                Sun, 19 Aug 2018   Prob (F-statistic):           4.06e-17\n",
      "Time:                        19:36:34   Log-Likelihood:                 905.47\n",
      "No. Observations:                 890   AIC:                            -1807.\n",
      "Df Residuals:                     888   BIC:                            -1797.\n",
      "Df Model:                           1                                         \n",
      "Covariance Type:            nonrobust                                         \n",
      "==============================================================================\n",
      "                 coef    std err          t      P>|t|      [0.025      0.975]\n",
      "------------------------------------------------------------------------------\n",
      "const          0.9918      0.082     12.087      0.000       0.831       1.153\n",
      "x1             0.4002      0.047      8.584      0.000       0.309       0.492\n",
      "==============================================================================\n",
      "Omnibus:                       24.631   Durbin-Watson:                   1.336\n",
      "Prob(Omnibus):                  0.000   Jarque-Bera (JB):               13.074\n",
      "Skew:                           0.082   Prob(JB):                      0.00145\n",
      "Kurtosis:                       2.429   Cond. No.                         65.1\n",
      "==============================================================================\n",
      "\n",
      "Warnings:\n",
      "[1] Standard Errors assume that the covariance matrix of the errors is correctly specified.\n"
     ]
    }
   ],
   "source": [
    "#Ajustando Mod de reg linear na biblioteca statsmodel\n",
    "#Usando a biblioteca statsmodels\n",
    "import statsmodels.api as sm\n",
    "\n",
    "X_7 = sm.add_constant(X) #adiciona a cte a base de dados\n",
    "est7 = sm.OLS(Y, X_7)\n",
    "est77 = est7.fit()\n",
    "print(est77.summary())"
   ]
  },
  {
   "cell_type": "markdown",
   "metadata": {},
   "source": [
    "Ao interpretar os coeficientes do modelo nota-se que não faz sentido utilizar o intercepto no modelo, pois quando a altura do pai for zero, ou seja, quando não tiver pai, a altura do filho também vai ser zero, pois não existirá filho\n",
    "<br>\n",
    "Desta maneira vamos ajustar novamente o modelo, mas agora sem intercepto"
   ]
  },
  {
   "cell_type": "code",
   "execution_count": 52,
   "metadata": {},
   "outputs": [
    {
     "name": "stdout",
     "output_type": "stream",
     "text": [
      "                            OLS Regression Results                            \n",
      "==============================================================================\n",
      "Dep. Variable:                      y   R-squared:                       0.997\n",
      "Model:                            OLS   Adj. R-squared:                  0.997\n",
      "Method:                 Least Squares   F-statistic:                 2.867e+05\n",
      "Date:                Sun, 19 Aug 2018   Prob (F-statistic):               0.00\n",
      "Time:                        19:36:34   Log-Likelihood:                 837.69\n",
      "No. Observations:                 890   AIC:                            -1673.\n",
      "Df Residuals:                     889   BIC:                            -1669.\n",
      "Df Model:                           1                                         \n",
      "Covariance Type:            nonrobust                                         \n",
      "==============================================================================\n",
      "                 coef    std err          t      P>|t|      [0.025      0.975]\n",
      "------------------------------------------------------------------------------\n",
      "x1             0.9634      0.002    535.469      0.000       0.960       0.967\n",
      "==============================================================================\n",
      "Omnibus:                       16.989   Durbin-Watson:                   1.158\n",
      "Prob(Omnibus):                  0.000   Jarque-Bera (JB):                9.630\n",
      "Skew:                           0.010   Prob(JB):                      0.00811\n",
      "Kurtosis:                       2.491   Cond. No.                         1.00\n",
      "==============================================================================\n",
      "\n",
      "Warnings:\n",
      "[1] Standard Errors assume that the covariance matrix of the errors is correctly specified.\n"
     ]
    }
   ],
   "source": [
    "#Ajustando Mod de reg linear na biblioteca statsmodel\n",
    "#Usando a biblioteca statsmodels\n",
    "#não vou adicionar intercepto a esse modelo\n",
    "import statsmodels.api as sm\n",
    "\n",
    "est7 = sm.OLS(Y, X)\n",
    "est77 = est7.fit()\n",
    "print(est77.summary())"
   ]
  },
  {
   "cell_type": "markdown",
   "metadata": {},
   "source": [
    "## Parte_4: Ajustando um Modelo de Regressão Linear Multipla usando statsmodel\n",
    "Utilizando as Variáveis: altura do pai e da mae"
   ]
  },
  {
   "cell_type": "code",
   "execution_count": 53,
   "metadata": {},
   "outputs": [
    {
     "data": {
      "text/html": [
       "<div>\n",
       "<style>\n",
       "    .dataframe thead tr:only-child th {\n",
       "        text-align: right;\n",
       "    }\n",
       "\n",
       "    .dataframe thead th {\n",
       "        text-align: left;\n",
       "    }\n",
       "\n",
       "    .dataframe tbody tr th {\n",
       "        vertical-align: top;\n",
       "    }\n",
       "</style>\n",
       "<table border=\"1\" class=\"dataframe\">\n",
       "  <thead>\n",
       "    <tr style=\"text-align: right;\">\n",
       "      <th></th>\n",
       "      <th>Father</th>\n",
       "      <th>Mother</th>\n",
       "    </tr>\n",
       "  </thead>\n",
       "  <tbody>\n",
       "    <tr>\n",
       "      <th>0</th>\n",
       "      <td>1.9939</td>\n",
       "      <td>1.7018</td>\n",
       "    </tr>\n",
       "    <tr>\n",
       "      <th>1</th>\n",
       "      <td>1.9939</td>\n",
       "      <td>1.7018</td>\n",
       "    </tr>\n",
       "    <tr>\n",
       "      <th>2</th>\n",
       "      <td>1.9939</td>\n",
       "      <td>1.7018</td>\n",
       "    </tr>\n",
       "    <tr>\n",
       "      <th>3</th>\n",
       "      <td>1.9939</td>\n",
       "      <td>1.7018</td>\n",
       "    </tr>\n",
       "    <tr>\n",
       "      <th>4</th>\n",
       "      <td>1.9177</td>\n",
       "      <td>1.6891</td>\n",
       "    </tr>\n",
       "  </tbody>\n",
       "</table>\n",
       "</div>"
      ],
      "text/plain": [
       "   Father  Mother\n",
       "0  1.9939  1.7018\n",
       "1  1.9939  1.7018\n",
       "2  1.9939  1.7018\n",
       "3  1.9939  1.7018\n",
       "4  1.9177  1.6891"
      ]
     },
     "execution_count": 53,
     "metadata": {},
     "output_type": "execute_result"
    }
   ],
   "source": [
    "### Criando amostra de teste e treinamento (Cuidado Overfiting)\n",
    "\n",
    "Y= Galton['Height']\n",
    "Y=Y.values.reshape(len(Y),1)\n",
    "Y_train = Y[:-445]\n",
    "Y_test = Y[-445:]\n",
    "\n",
    "X2_train = Galton[:-445] #Seleciona as primeiras 445 obs para treinar\n",
    "X2_test = Galton[-445:]  #Seleciona as obs a partir da obs 445 para testar\n",
    "X2_train=X2_train.drop([\"Family\",\"Height\",\"Gender\",\"Kids\",\"Mean_Parents\",\"target\"],axis=1)\n",
    "X2_test=X2_test.drop([\"Family\",\"Height\",\"Gender\",\"Kids\",\"Mean_Parents\",\"target\"],axis=1)\n",
    "\n",
    "X2_train.head()"
   ]
  },
  {
   "cell_type": "code",
   "execution_count": 54,
   "metadata": {},
   "outputs": [
    {
     "name": "stdout",
     "output_type": "stream",
     "text": [
      "beta1 [[ 0.25934756  0.32925071]]\n",
      "intercepto [ 0.71045998]\n",
      "r2_train 0.0582263353833\n",
      "r2_test 0.0156411115506\n"
     ]
    }
   ],
   "source": [
    "# Ajusta um modelo de reg linear multipla com as variáveis Altura pai e Altura mãe\n",
    "regr.fit(X2_train, Y_train)\n",
    "\n",
    "beta1=regr.coef_\n",
    "intercepto=regr.intercept_\n",
    "\n",
    "print('beta1',beta1)\n",
    "print('intercepto',intercepto)\n",
    "\n",
    "#R quadrado da amostra de treinamento\n",
    "r2_train = regr.score(X2_train,Y_train)\n",
    "print('r2_train',r2_train)\n",
    "\n",
    "#R quadrado da amostra de teste\n",
    "r2_test = regr.score(X2_test,Y_test)\n",
    "print('r2_test',r2_test)"
   ]
  },
  {
   "cell_type": "code",
   "execution_count": 55,
   "metadata": {},
   "outputs": [
    {
     "name": "stdout",
     "output_type": "stream",
     "text": [
      "                            OLS Regression Results                            \n",
      "==============================================================================\n",
      "Dep. Variable:                      y   R-squared:                       0.058\n",
      "Model:                            OLS   Adj. R-squared:                  0.054\n",
      "Method:                 Least Squares   F-statistic:                     13.66\n",
      "Date:                Sun, 19 Aug 2018   Prob (F-statistic):           1.75e-06\n",
      "Time:                        19:36:34   Log-Likelihood:                 455.83\n",
      "No. Observations:                 445   AIC:                            -905.7\n",
      "Df Residuals:                     442   BIC:                            -893.4\n",
      "Df Model:                           2                                         \n",
      "Covariance Type:            nonrobust                                         \n",
      "==============================================================================\n",
      "                 coef    std err          t      P>|t|      [0.025      0.975]\n",
      "------------------------------------------------------------------------------\n",
      "const          0.7105      0.221      3.219      0.001       0.277       1.144\n",
      "Father         0.2593      0.100      2.599      0.010       0.063       0.455\n",
      "Mother         0.3293      0.070      4.721      0.000       0.192       0.466\n",
      "==============================================================================\n",
      "Omnibus:                       15.024   Durbin-Watson:                   1.429\n",
      "Prob(Omnibus):                  0.001   Jarque-Bera (JB):                8.047\n",
      "Skew:                           0.122   Prob(JB):                       0.0179\n",
      "Kurtosis:                       2.388   Cond. No.                         153.\n",
      "==============================================================================\n",
      "\n",
      "Warnings:\n",
      "[1] Standard Errors assume that the covariance matrix of the errors is correctly specified.\n"
     ]
    }
   ],
   "source": [
    "#Usando a biblioteca statsmodels\n",
    "#Modelo COM intercepto\n",
    "\n",
    "X2_train_1 = sm.add_constant(X2_train) #adiciona a cte a base de dados\n",
    "est = sm.OLS(Y_train, X2_train_1)\n",
    "est2 = est.fit()\n",
    "\n",
    "print(est2.summary())\n"
   ]
  },
  {
   "cell_type": "code",
   "execution_count": 56,
   "metadata": {},
   "outputs": [
    {
     "name": "stdout",
     "output_type": "stream",
     "text": [
      "                            OLS Regression Results                            \n",
      "==============================================================================\n",
      "Dep. Variable:                      y   R-squared:                       0.997\n",
      "Model:                            OLS   Adj. R-squared:                  0.997\n",
      "Method:                 Least Squares   F-statistic:                 8.466e+04\n",
      "Date:                Sun, 19 Aug 2018   Prob (F-statistic):               0.00\n",
      "Time:                        19:36:34   Log-Likelihood:                 450.67\n",
      "No. Observations:                 445   AIC:                            -897.3\n",
      "Df Residuals:                     443   BIC:                            -889.1\n",
      "Df Model:                           2                                         \n",
      "Covariance Type:            nonrobust                                         \n",
      "==============================================================================\n",
      "                 coef    std err          t      P>|t|      [0.025      0.975]\n",
      "------------------------------------------------------------------------------\n",
      "Father         0.5344      0.052     10.267      0.000       0.432       0.637\n",
      "Mother         0.4595      0.057      8.003      0.000       0.347       0.572\n",
      "==============================================================================\n",
      "Omnibus:                       14.748   Durbin-Watson:                   1.405\n",
      "Prob(Omnibus):                  0.001   Jarque-Bera (JB):                8.286\n",
      "Skew:                           0.147   Prob(JB):                       0.0159\n",
      "Kurtosis:                       2.399   Cond. No.                         45.2\n",
      "==============================================================================\n",
      "\n",
      "Warnings:\n",
      "[1] Standard Errors assume that the covariance matrix of the errors is correctly specified.\n"
     ]
    }
   ],
   "source": [
    "#Usando a biblioteca statsmodels\n",
    "#Modelo SEM intercepto\n",
    "est = sm.OLS(Y_train, X2_train)\n",
    "est2 = est.fit()\n",
    "predictions = est2.predict() \n",
    "residuos = Y_train - predictions\n",
    "print(est2.summary())"
   ]
  },
  {
   "cell_type": "code",
   "execution_count": 38,
   "metadata": {},
   "outputs": [
    {
     "data": {
      "image/png": "[encoded data removed]",
      "text/plain": [
       "<matplotlib.figure.Figure at 0x1d7fc3e4e80>"
      ]
     },
     "metadata": {},
     "output_type": "display_data"
    }
   ],
   "source": [
    "#Verificando a correlação entre o valor real e o predito\n",
    "plt.scatter(Y_train,predictions)\n",
    "plt.xlabel(\"Real\")\n",
    "plt.ylabel(\"Predito\")\n",
    "plt.show()"
   ]
  }
 ],
 "metadata": {
  "kernelspec": {
   "display_name": "Python 3",
   "language": "python",
   "name": "python3"
  },
  "language_info": {
   "codemirror_mode": {
    "name": "ipython",
    "version": 3
   },
   "file_extension": ".py",
   "mimetype": "text/x-python",
   "name": "python",
   "nbconvert_exporter": "python",
   "pygments_lexer": "ipython3",
   "version": "3.6.3"
  }
 },
 "nbformat": 4,
 "nbformat_minor": 2
}
